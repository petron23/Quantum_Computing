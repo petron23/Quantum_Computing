{
 "cells": [
  {
   "cell_type": "markdown",
   "metadata": {},
   "source": [
    "Unitary designs are used when there is a need for random sampling or randomizations. More precisely, the Haar measure provides a way to sample uniformly from the group of unitary matrices, but generating truly random unitaries with respect to the Haar measure can be computationally expensive. Unitary designs offer an efficient way to approximate this randomness. A unitary design is a collection of unitary matrices that, when averaged together, behaves like an integral over the Haar measure.\n",
    "The 2-desings specifically are used for operation benchmarking on qubits. If an operation is perfectly act on a qubit state as $\\Lambda (|0\\rangle \\langle0|)$ it could be expressed as $V|0\\rangle \\langle0|V^{\\dagger}$. And the fidelity measures their overlapping, i.e. $F = \\langle 0|V^{\\dagger} \\Lambda(|0\\rangle \\langle0|) V |0\\rangle $ "
   ]
  },
  {
   "cell_type": "markdown",
   "metadata": {},
   "source": [
    "$\\bar F(\\Lambda, V) = \\int \\, d\\mu(U) \\langle 0 | U^\\dagger V^\\dagger \\Lambda (U |0\\rangle \\langle 0 | U^\\dagger) V U |0 \\rangle$\n"
   ]
  },
  {
   "cell_type": "markdown",
   "metadata": {},
   "source": [
    "The above expressions defines the average fidelity over the unitaries by using Haar measure. This is exactly the case where the unitary t-designs come handy. The equation can be expressed in an exact form as "
   ]
  },
  {
   "cell_type": "markdown",
   "metadata": {},
   "source": [
    "$ \\int \\, d\\mu(U) \\langle 0 | U^\\dagger V^\\dagger \\Lambda (U |0\\rangle \\langle 0 | U^\\dagger) V U |0 \\rangle = \\frac{1}{K} \\sum\\limits_{j=1}^{K} \\langle 0 | U_j^\\dagger V^\\dagger \\Lambda (U_j |0\\rangle \\langle 0 | U_j^\\dagger) V U_j |0 \\rangle$\n"
   ]
  },
  {
   "cell_type": "markdown",
   "metadata": {},
   "source": [
    "Here $K$ is the cardinality of the set of unitaires that form a 2-design."
   ]
  },
  {
   "cell_type": "markdown",
   "metadata": {},
   "source": [
    "It can be shown that the Clifford goup is a unitary-3 design so it is a 2 and 1 design, too. For the 1-qubit Clifford group we have the Hadamard ($H$) gate and the phase ($S$) gate as the generator of the Clifford group. Altogether the group consists of 24 elements. So over this 24 elements we need to perform the summation written above."
   ]
  },
  {
   "cell_type": "code",
   "execution_count": 1,
   "metadata": {},
   "outputs": [],
   "source": [
    "single_qubit_cliffords = [\n",
    " '',\n",
    " 'H', 'S',\n",
    " 'HS', 'SH', 'SS',\n",
    " 'HSH', 'HSS', 'SHS', 'SSH', 'SSS',\n",
    " 'HSHS', 'HSSH', 'HSSS', 'SHSS', 'SSHS',\n",
    " 'HSHSS', 'HSSHS', 'SHSSH', 'SHSSS', 'SSHSS',\n",
    " 'HSHSSH', 'HSHSSS', 'HSSHSS'\n",
    "]"
   ]
  },
  {
   "cell_type": "markdown",
   "metadata": {},
   "source": [
    "Here we will check if using the Clifford group for the evaluation of the average fidelity gives the same result as the definition, i.e. integrating over the Haar measure by using a number of randomly sampled unitaries."
   ]
  },
  {
   "cell_type": "code",
   "execution_count": 3,
   "metadata": {},
   "outputs": [],
   "source": [
    "import pennylane as qml\n",
    "import numpy as np\n",
    "\n",
    "# Scipy for sampling Haar-random unitaries\n",
    "from scipy.stats import unitary_group\n",
    "\n",
    "# set the random seed\n",
    "np.random.seed(42)\n",
    "\n",
    "# Use the mixed state simulator\n",
    "dev = qml.device(\"default.mixed\", wires=1)"
   ]
  },
  {
   "cell_type": "code",
   "execution_count": null,
   "metadata": {},
   "outputs": [],
   "source": [
    "# We set up the experiment by defining an operation which we hit by some noise.\n",
    "# This will make the fidelity diverge from unity for certain.\n",
    "\n",
    "def ideal_experiment():\n",
    "    qml.SX(wires=0)\n",
    "    return qml.state()\n",
    "\n",
    "\n",
    "def noisy_operations(damp_factor, depo_factor, flip_prob):\n",
    "    qml.AmplitudeDamping(damp_factor, wires=0)\n",
    "    qml.DepolarizingChannel(depo_factor, wires=0)\n",
    "    qml.BitFlip(flip_prob, wires=0)\n",
    "\n",
    "\n",
    "@qml.qfunc_transform\n",
    "def apply_noise(tape, damp_factor, depo_factor, flip_prob):\n",
    "    # Apply the original operations\n",
    "    for op in tape.operations:\n",
    "        qml.apply(op)\n",
    "\n",
    "    # Apply the noisy sequence\n",
    "    noisy_operations(damp_factor, depo_factor, flip_prob)\n",
    "\n",
    "    # Apply the original measurements\n",
    "    for m in tape.measurements:\n",
    "        qml.apply(m)"
   ]
  },
  {
   "cell_type": "markdown",
   "metadata": {},
   "source": [
    "# TBC ..."
   ]
  },
  {
   "cell_type": "markdown",
   "metadata": {},
   "source": []
  }
 ],
 "metadata": {
  "kernelspec": {
   "display_name": "base",
   "language": "python",
   "name": "python3"
  },
  "language_info": {
   "codemirror_mode": {
    "name": "ipython",
    "version": 3
   },
   "file_extension": ".py",
   "mimetype": "text/x-python",
   "name": "python",
   "nbconvert_exporter": "python",
   "pygments_lexer": "ipython3",
   "version": "3.9.13"
  },
  "orig_nbformat": 4
 },
 "nbformat": 4,
 "nbformat_minor": 2
}
