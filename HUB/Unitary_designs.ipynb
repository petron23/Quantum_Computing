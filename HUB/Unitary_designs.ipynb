{
 "cells": [
  {
   "cell_type": "markdown",
   "metadata": {},
   "source": [
    "Unitary designs are used when there is a need for random sampling or randomizations. More precisely, the Haar measure provides a way to sample uniformly from the group of unitary matrices, but generating truly random unitaries with respect to the Haar measure can be computationally expensive. Unitary designs offer an efficient way to approximate this randomness. A unitary design is a collection of unitary matrices that, when averaged together, behaves like an integral over the Haar measure.\n",
    "The 2-desings specifically are used for operation benchmarking on qubits. If an operation is perfectly act on a qubit state as $\\Lambda (|0\\rangle \\langle0|)$ it could be expressed as $V|0\\rangle \\langle0|V^{\\dagger}$. And the fidelity measures their overlapping, i.e. $F = \\langle 0|V^{\\dagger} \\Lambda(|0\\rangle \\langle0|) V |0\\rangle $ "
   ]
  },
  {
   "cell_type": "markdown",
   "metadata": {},
   "source": [
    "$\\bar F(\\Lambda, V) = \\int \\, d\\mu(U) \\langle 0 | U^\\dagger V^\\dagger \\Lambda (U |0\\rangle \\langle 0 | U^\\dagger) V U |0 \\rangle$\n"
   ]
  },
  {
   "cell_type": "markdown",
   "metadata": {},
   "source": [
    "The above expressions defines the average fidelity over the unitaries by using Haar measure. This is exactly the case where the unitary t-designs come handy. The equation can be expressed in an exact form as "
   ]
  },
  {
   "cell_type": "markdown",
   "metadata": {},
   "source": [
    "$ \\int \\, d\\mu(U) \\langle 0 | U^\\dagger V^\\dagger \\Lambda (U |0\\rangle \\langle 0 | U^\\dagger) V U |0 \\rangle = \\frac{1}{K} \\sum\\limits_{j=1}^{K} \\langle 0 | U_j^\\dagger V^\\dagger \\Lambda (U_j |0\\rangle \\langle 0 | U_j^\\dagger) V U_j |0 \\rangle$\n"
   ]
  },
  {
   "cell_type": "markdown",
   "metadata": {},
   "source": [
    "Here $K$ is the cardinality of the set of unitaires that form a 2-design."
   ]
  },
  {
   "cell_type": "markdown",
   "metadata": {},
   "source": [
    "It can be shown that the Clifford goup is a unitary-3 design so it is a 2 and 1 design, too. For the 1-qubit Clifford group we have the Hadamard ($H$) gate and the phase ($S$) gate as the generator of the Clifford group. Altogether the group consists of 24 elements. So over this 24 elements we need to perform the summation written above."
   ]
  },
  {
   "cell_type": "code",
   "execution_count": 6,
   "metadata": {},
   "outputs": [],
   "source": [
    "single_qubit_cliffords = [\n",
    " '',\n",
    " 'H', 'S',\n",
    " 'HS', 'SH', 'SS',\n",
    " 'HSH', 'HSS', 'SHS', 'SSH', 'SSS',\n",
    " 'HSHS', 'HSSH', 'HSSS', 'SHSS', 'SSHS',\n",
    " 'HSHSS', 'HSSHS', 'SHSSH', 'SHSSS', 'SSHSS',\n",
    " 'HSHSSH', 'HSHSSS', 'HSSHSS'\n",
    "]"
   ]
  },
  {
   "cell_type": "markdown",
   "metadata": {},
   "source": [
    "Here we will check if using the Clifford group for the evaluation of the average fidelity gives the same result as the definition, i.e. integrating over the Haar measure by using a number of randomly sampled unitaries."
   ]
  },
  {
   "cell_type": "code",
   "execution_count": 7,
   "metadata": {},
   "outputs": [],
   "source": [
    "import pennylane as qml\n",
    "import numpy as np\n",
    "\n",
    "# Scipy for sampling Haar-random unitaries\n",
    "from scipy.stats import unitary_group\n",
    "\n",
    "# set the random seed\n",
    "np.random.seed(42)\n",
    "\n",
    "# Use the mixed state simulator\n",
    "dev = qml.device(\"default.mixed\", wires=1)"
   ]
  },
  {
   "cell_type": "code",
   "execution_count": 8,
   "metadata": {},
   "outputs": [],
   "source": [
    "# We set up the experiment by defining an operation which we hit by some noise.\n",
    "# This will make the fidelity diverge from unity for certain.\n",
    "\n",
    "def ideal_experiment():\n",
    "    qml.SX(wires=0)\n",
    "    return qml.state()\n",
    "\n",
    "\n",
    "def noisy_operations(damp_factor, depo_factor, flip_prob):\n",
    "    qml.AmplitudeDamping(damp_factor, wires=0)\n",
    "    qml.DepolarizingChannel(depo_factor, wires=0)\n",
    "    qml.BitFlip(flip_prob, wires=0)\n",
    "\n",
    "\n",
    "@qml.qfunc_transform\n",
    "def apply_noise(tape, damp_factor, depo_factor, flip_prob):\n",
    "    # Apply the original operations\n",
    "    for op in tape.operations:\n",
    "        qml.apply(op)\n",
    "\n",
    "    # Apply the noisy sequence\n",
    "    noisy_operations(damp_factor, depo_factor, flip_prob)\n",
    "\n",
    "    # Apply the original measurements\n",
    "    for m in tape.measurements:\n",
    "        qml.apply(m)"
   ]
  },
  {
   "cell_type": "code",
   "execution_count": 9,
   "metadata": {},
   "outputs": [],
   "source": [
    "# the experiment with noise is created\n",
    "damp_factor = 0.02\n",
    "depo_factor = 0.02\n",
    "flip_prob = 0.01\n",
    "\n",
    "noisy_experiment = apply_noise(damp_factor, depo_factor, flip_prob)(ideal_experiment)"
   ]
  },
  {
   "cell_type": "code",
   "execution_count": 10,
   "metadata": {},
   "outputs": [],
   "source": [
    "# Defining the conjugation with a unitary\n",
    "@qml.qfunc_transform\n",
    "def conjugate_with_unitary(tape, matrix):\n",
    "    qml.QubitUnitary(matrix, wires=0)\n",
    "\n",
    "    for op in tape.operations:\n",
    "        qml.apply(op)\n",
    "\n",
    "    qml.QubitUnitary(matrix.conj().T, wires=0)\n",
    "\n",
    "    for m in tape.measurements:\n",
    "        qml.apply(m)"
   ]
  },
  {
   "cell_type": "code",
   "execution_count": 12,
   "metadata": {},
   "outputs": [],
   "source": [
    "# defining fidelity\n",
    "from scipy.linalg import sqrtm\n",
    "\n",
    "def fidelity(rho, sigma):\n",
    "    # Inputs rho and sigma are density matrices\n",
    "    sqrt_sigma = sqrtm(sigma)\n",
    "    fid = np.trace(sqrtm(sqrt_sigma @ rho @ sqrt_sigma))\n",
    "    return fid.real"
   ]
  },
  {
   "cell_type": "code",
   "execution_count": 64,
   "metadata": {},
   "outputs": [],
   "source": [
    "from scipy.linalg import sqrtm\n",
    "\n",
    "def fidelity(rho, sigma):\n",
    "    # Inputs rho and sigma are density matrices\n",
    "    sqrt_sigma = sqrtm(sigma)\n",
    "    fid = np.trace(sqrtm(sqrt_sigma @ rho @ sqrt_sigma))\n",
    "    return fid.real"
   ]
  },
  {
   "cell_type": "code",
   "execution_count": 65,
   "metadata": {},
   "outputs": [],
   "source": [
    "def computing_average_fidelity(ideal_exp,noisy_exp,unitary=True):\n",
    "    n_samples = 1000\n",
    "    fidelities = []\n",
    "    \n",
    "        # Apply transform to construct the ideal and noisy quantum functions\n",
    "    if unitary:\n",
    "        U = unitary_group.rvs(2)\n",
    "        for _ in range(n_samples):\n",
    "            conjugated_ideal_experiment = conjugate_with_unitary(U)(ideal_exp)\n",
    "            conjugated_noisy_experiment = conjugate_with_unitary(U)(noisy_exp)\n",
    "            # Use the functions to create QNodes\n",
    "            ideal_qnode = qml.QNode(conjugated_ideal_experiment, dev)\n",
    "            noisy_qnode = qml.QNode(conjugated_noisy_experiment, dev)\n",
    "\n",
    "            # Execute the QNodes\n",
    "            ideal_state = ideal_qnode()\n",
    "            noisy_state = noisy_qnode()\n",
    "\n",
    "            # Compute the fidelity\n",
    "            fidelities.append(fidelity(ideal_state, noisy_state))\n",
    "\n",
    "    else:\n",
    "        for C in single_qubit_cliffords:\n",
    "            conjugated_ideal_experiment = conjugate_with_clifford(C)(ideal_exp)\n",
    "            conjugated_noisy_experiment = conjugate_with_clifford(C)(noisy_exp)\n",
    "            # Use the functions to create QNodes\n",
    "            ideal_qnode = qml.QNode(conjugated_ideal_experiment, dev)\n",
    "            noisy_qnode = qml.QNode(conjugated_noisy_experiment, dev)\n",
    "\n",
    "            # Execute the QNodes\n",
    "            ideal_state = ideal_qnode()\n",
    "            noisy_state = noisy_qnode()\n",
    "\n",
    "            # Compute the fidelity\n",
    "            fidelities.append(fidelity(ideal_state, noisy_state))\n",
    "            \n",
    "    return np.mean(fidelities)"
   ]
  },
  {
   "cell_type": "code",
   "execution_count": 66,
   "metadata": {},
   "outputs": [
    {
     "data": {
      "text/plain": [
       "0.9839931674870752"
      ]
     },
     "execution_count": 66,
     "metadata": {},
     "output_type": "execute_result"
    }
   ],
   "source": [
    "computing_average_fidelity(ideal_experiment, noisy_experiment)"
   ]
  },
  {
   "cell_type": "code",
   "execution_count": 67,
   "metadata": {},
   "outputs": [],
   "source": [
    "# we define the action of the Clifford group elements using their string representation\n",
    "def apply_single_clifford(clifford_string, inverse=False):\n",
    "    for gate in clifford_string:\n",
    "        #if a H string we apply Hadamard\n",
    "        if gate == 'H':\n",
    "            qml.Hadamard(wires=0)\n",
    "        #if S string we apply phase flip\n",
    "        else:\n",
    "            sign = -1 if inverse else 1\n",
    "            qml.PhaseShift(sign * np.pi/2, wires=0)"
   ]
  },
  {
   "cell_type": "code",
   "execution_count": 68,
   "metadata": {},
   "outputs": [],
   "source": [
    "#just as before we define the conjugation but this time with Clifford elements\n",
    "@qml.qfunc_transform\n",
    "def conjugate_with_clifford(tape, clifford_string):\n",
    "    #applying the Clifford\n",
    "    apply_single_clifford(clifford_string, inverse=False)\n",
    "\n",
    "    for op in tape.operations:\n",
    "        qml.apply(op)\n",
    "    #applying Clifford conjugate\n",
    "    apply_single_clifford(clifford_string, inverse=True)\n",
    "\n",
    "    for m in tape.measurements:\n",
    "        qml.apply(m)"
   ]
  },
  {
   "cell_type": "code",
   "execution_count": 69,
   "metadata": {},
   "outputs": [
    {
     "data": {
      "text/plain": [
       "0.9867892193517145"
      ]
     },
     "execution_count": 69,
     "metadata": {},
     "output_type": "execute_result"
    }
   ],
   "source": [
    "computing_average_fidelity(ideal_experiment, noisy_experiment,unitary=False)"
   ]
  },
  {
   "cell_type": "markdown",
   "metadata": {},
   "source": [
    "Lets compare the two methods one with Haar-sampled unitaries the other with the 2-design Clifford group."
   ]
  },
  {
   "cell_type": "code",
   "execution_count": 70,
   "metadata": {},
   "outputs": [
    {
     "name": "stdout",
     "output_type": "stream",
     "text": [
      "Using unitaries: 0.9895457714257622 \n",
      "Using 2-designs: 0.9867892193517145\n"
     ]
    }
   ],
   "source": [
    "print(\n",
    "    \"Using unitaries:\", computing_average_fidelity(ideal_experiment, noisy_experiment,unitary=True),\n",
    "    \"\\n\"\n",
    "    \"Using 2-designs:\", computing_average_fidelity(ideal_experiment, noisy_experiment,unitary=False)\n",
    "    )"
   ]
  },
  {
   "cell_type": "markdown",
   "metadata": {},
   "source": [
    "The agreement could be further enhanced by using more Haar-sampled unitaries."
   ]
  }
 ],
 "metadata": {
  "kernelspec": {
   "display_name": "base",
   "language": "python",
   "name": "python3"
  },
  "language_info": {
   "codemirror_mode": {
    "name": "ipython",
    "version": 3
   },
   "file_extension": ".py",
   "mimetype": "text/x-python",
   "name": "python",
   "nbconvert_exporter": "python",
   "pygments_lexer": "ipython3",
   "version": "3.9.13"
  },
  "orig_nbformat": 4
 },
 "nbformat": 4,
 "nbformat_minor": 2
}
