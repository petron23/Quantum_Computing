{
 "cells": [
  {
   "cell_type": "code",
   "execution_count": 3,
   "metadata": {},
   "outputs": [],
   "source": [
    "import numpy as np\n",
    "import pandas as pd\n",
    "import matplotlib.pyplot as plt\n",
    "from scipy.stats import norm\n",
    "from qiskit_optimization import QuadraticProgram"
   ]
  },
  {
   "cell_type": "markdown",
   "metadata": {},
   "source": [
    "# Creating synthetic data for P2P energy training"
   ]
  },
  {
   "cell_type": "code",
   "execution_count": 7,
   "metadata": {},
   "outputs": [
    {
     "name": "stdout",
     "output_type": "stream",
     "text": [
      "hour:0 6.0\n",
      "hour:1 8.0\n",
      "hour:2 14.0\n",
      "hour:3 24.0\n",
      "hour:4 34.0\n",
      "hour:5 48.0\n",
      "hour:6 64.0\n",
      "hour:7 84.0\n",
      "hour:8 92.0\n",
      "hour:9 102.0\n",
      "hour:10 116.0\n",
      "hour:11 122.0\n",
      "hour:12 120.0\n",
      "hour:13 114.0\n",
      "hour:14 112.0\n",
      "hour:15 92.0\n",
      "hour:16 76.0\n",
      "hour:17 60.0\n",
      "hour:18 48.0\n",
      "hour:19 34.0\n",
      "hour:20 22.0\n",
      "hour:21 16.0\n",
      "hour:22 10.0\n",
      "hour:23 4.0\n"
     ]
    }
   ],
   "source": [
    "samples = np.random.normal(loc=11.5, scale=4.7, size=15000)\n",
    "\n",
    "hours = np.arange(24)\n",
    "min_value = 10\n",
    "max_value = 123\n",
    "\n",
    "participants_dict_per_hourdict={}\n",
    "for hour in hours:\n",
    "    participants_dict_per_hourdict[f\"{hour}\"] = 0\n",
    "    for sample in samples:\n",
    "        if np.abs(sample - hour)<.5:\n",
    "              participants_dict_per_hourdict[f\"{hour}\"]+=1 \n",
    "participants_by_hour = np.asarray(list(participants_dict_per_hourdict.values()))\n",
    "participants_by_hour = participants_by_hour/np.max(participants_by_hour) * max_value\n",
    "\n",
    "#either we set the values below min_value to min_value or throw it a away\n",
    "#participants_by_hour[participants_by_hour<min_value] = 0\n",
    "#participants_by_hour = np.clip(participants_by_hour/np.max(participants_by_hour) * max_value, a_min=min_value, a_max=max_value)\n",
    "\n",
    "columns = ['Hour', 'Participant', 'Type', 'Price (cents/KWh)', 'Quantity (KW)']\n",
    "df = pd.DataFrame(columns=columns)\n",
    "\n",
    "# Generate bids and asks for each hour\n",
    "for hour in hours:\n",
    "    #print(hour)\n",
    "    participants_by_hour[hour]=int(participants_by_hour[hour])\n",
    "    if participants_by_hour[hour]%2!=0:\n",
    "        participants_by_hour[hour]-=1\n",
    "    print(f\"hour:{hour}\",participants_by_hour[hour])\n",
    "    num_prosumers = int(participants_by_hour[hour]/2)\n",
    "    num_consumers = int(participants_by_hour[hour] - num_prosumers)\n",
    "\n",
    "\n",
    "    if participants_by_hour[hour] > 0:\n",
    "    # Generate prosumer bids\n",
    "        prosumer_bids = pd.DataFrame({\n",
    "            'Hour': hour,\n",
    "            'Participant': np.arange(num_prosumers),\n",
    "            'Type': 'Bid',\n",
    "            'Price (cents/KWh)': np.random.randint(8, 33, size=num_prosumers),\n",
    "            'Quantity (KW)': np.random.randint(1, 6, size=num_prosumers)\n",
    "        })\n",
    "\n",
    "    # Generate consumer asks\n",
    "        consumer_asks = pd.DataFrame({\n",
    "            'Hour': hour,\n",
    "            'Participant': np.arange(num_prosumers, num_prosumers + num_consumers),\n",
    "            'Type': 'Ask',\n",
    "            'Price (cents/KWh)': np.random.randint(8, 33, size=num_consumers),\n",
    "            'Quantity (KW)': np.random.randint(5, 11, size=num_consumers)\n",
    "        })\n",
    "    else:\n",
    "        # Generate prosumer bids\n",
    "        prosumer_bids = pd.DataFrame({\n",
    "            'Hour': hour,\n",
    "            'Participant': [None],\n",
    "            'Type': 'Bid',\n",
    "            'Price (cents/KWh)': 0,\n",
    "            'Quantity (KW)': 0\n",
    "        })\n",
    "\n",
    "    # Generate consumer asks\n",
    "        consumer_asks = pd.DataFrame({\n",
    "            'Hour': hour,\n",
    "            'Participant': [None],\n",
    "            'Type': 'Ask',\n",
    "            'Price (cents/KWh)': 0,\n",
    "            'Quantity (KW)': 0\n",
    "        })\n",
    "    \n",
    "\n",
    "    # Concatenate prosumer bids and consumer asks\n",
    "    hour_data = pd.concat([prosumer_bids, consumer_asks], ignore_index=True)\n",
    "\n",
    "    # Add the generated data to the main DataFrame\n",
    "    df = pd.concat([df, hour_data], ignore_index=True)\n",
    "\n",
    "    df[\"Participant\"]\n",
    "# Sort the DataFrame based on hour and participant\n",
    "df.sort_values(by=['Hour', 'Participant'], inplace=True, ignore_index=True)"
   ]
  },
  {
   "cell_type": "code",
   "execution_count": 8,
   "metadata": {},
   "outputs": [
    {
     "data": {
      "text/html": [
       "<div>\n",
       "<style scoped>\n",
       "    .dataframe tbody tr th:only-of-type {\n",
       "        vertical-align: middle;\n",
       "    }\n",
       "\n",
       "    .dataframe tbody tr th {\n",
       "        vertical-align: top;\n",
       "    }\n",
       "\n",
       "    .dataframe thead th {\n",
       "        text-align: right;\n",
       "    }\n",
       "</style>\n",
       "<table border=\"1\" class=\"dataframe\">\n",
       "  <thead>\n",
       "    <tr style=\"text-align: right;\">\n",
       "      <th></th>\n",
       "      <th>Hour</th>\n",
       "      <th>Participant</th>\n",
       "      <th>Type</th>\n",
       "      <th>Price (cents/KWh)</th>\n",
       "      <th>Quantity (KW)</th>\n",
       "    </tr>\n",
       "  </thead>\n",
       "  <tbody>\n",
       "    <tr>\n",
       "      <th>1418</th>\n",
       "      <td>23</td>\n",
       "      <td>0</td>\n",
       "      <td>Bid</td>\n",
       "      <td>13</td>\n",
       "      <td>4</td>\n",
       "    </tr>\n",
       "    <tr>\n",
       "      <th>1419</th>\n",
       "      <td>23</td>\n",
       "      <td>1</td>\n",
       "      <td>Bid</td>\n",
       "      <td>12</td>\n",
       "      <td>3</td>\n",
       "    </tr>\n",
       "    <tr>\n",
       "      <th>1420</th>\n",
       "      <td>23</td>\n",
       "      <td>2</td>\n",
       "      <td>Ask</td>\n",
       "      <td>31</td>\n",
       "      <td>7</td>\n",
       "    </tr>\n",
       "    <tr>\n",
       "      <th>1421</th>\n",
       "      <td>23</td>\n",
       "      <td>3</td>\n",
       "      <td>Ask</td>\n",
       "      <td>8</td>\n",
       "      <td>10</td>\n",
       "    </tr>\n",
       "  </tbody>\n",
       "</table>\n",
       "</div>"
      ],
      "text/plain": [
       "     Hour Participant Type Price (cents/KWh) Quantity (KW)\n",
       "1418   23           0  Bid                13             4\n",
       "1419   23           1  Bid                12             3\n",
       "1420   23           2  Ask                31             7\n",
       "1421   23           3  Ask                 8            10"
      ]
     },
     "execution_count": 8,
     "metadata": {},
     "output_type": "execute_result"
    }
   ],
   "source": [
    "df[df[\"Hour\"]==23]"
   ]
  },
  {
   "cell_type": "code",
   "execution_count": 9,
   "metadata": {},
   "outputs": [],
   "source": [
    "df_length_per_hour = df.groupby('Hour').size()"
   ]
  },
  {
   "cell_type": "code",
   "execution_count": 10,
   "metadata": {},
   "outputs": [
    {
     "data": {
      "text/plain": [
       "[<matplotlib.lines.Line2D at 0x1edf3229d00>]"
      ]
     },
     "execution_count": 10,
     "metadata": {},
     "output_type": "execute_result"
    },
    {
     "data": {
      "image/png": "[encoded data removed]",
      "text/plain": [
       "<Figure size 640x480 with 1 Axes>"
      ]
     },
     "metadata": {},
     "output_type": "display_data"
    }
   ],
   "source": [
    "#comparing to exact distribution\n",
    "#also cutting the cases when participants are below 10\n",
    "x = np.linspace(0,23,24)\n",
    "\n",
    "df_length_per_hour = df.groupby('Hour').size()\n",
    "#df_length_per_hour[df_length_per_hour<10] = 0\n",
    "plt.bar(df_length_per_hour.index, df_length_per_hour.values, color='blue', alpha=0.7,edgecolor='black')\n",
    "plt.plot(hours,123* norm.pdf(x, loc = 11.5, scale = 4.7)/max(norm.pdf(x, loc = 11.5, scale = 4.7)),\n",
    "       'r-', lw=5, alpha=0.6, label='norm pdf')"
   ]
  },
  {
   "cell_type": "markdown",
   "metadata": {},
   "source": [
    "# Creating QUBO"
   ]
  },
  {
   "cell_type": "markdown",
   "metadata": {},
   "source": [
    "The cost function in the original formulation"
   ]
  },
  {
   "cell_type": "markdown",
   "metadata": {},
   "source": [
    "$\\max\\limits_{x_{ij}} \\sum\\limits_{i=1}^{C}\\sum\\limits_{j=1}^{P} x_{ij}(p_i-p_j){\\text{min}}\\{Q_i,Q_j\\}$"
   ]
  },
  {
   "cell_type": "markdown",
   "metadata": {},
   "source": [
    "Subject to\n",
    "\n",
    "$\\sum\\limits_{i}^C x_{ij}{\\text{min}}\\{Q_i,Q_j\\}\\leq Q_j$\n",
    "\n",
    "\n",
    "$\\sum\\limits_{j}^P x_{ij}{\\text{min}}\\{Q_i,Q_j\\}\\leq Q_i$"
   ]
  },
  {
   "cell_type": "code",
   "execution_count": 11,
   "metadata": {},
   "outputs": [
    {
     "name": "stdout",
     "output_type": "stream",
     "text": [
      "Problem name: ET\n",
      "\n",
      "Minimize\n",
      "  0\n",
      "\n",
      "Subject to\n",
      "  No constraints\n",
      "\n",
      "  No variables\n",
      "\n"
     ]
    }
   ],
   "source": [
    "#creating the Quadratic program\n",
    "mod = QuadraticProgram(\"ET\")\n",
    "print(mod.prettyprint())"
   ]
  },
  {
   "cell_type": "markdown",
   "metadata": {},
   "source": [
    "As of yet we are going to fill this up with the bids and asks from a given time interval, e.g. 2."
   ]
  },
  {
   "cell_type": "code",
   "execution_count": 12,
   "metadata": {},
   "outputs": [
    {
     "data": {
      "text/html": [
       "<div>\n",
       "<style scoped>\n",
       "    .dataframe tbody tr th:only-of-type {\n",
       "        vertical-align: middle;\n",
       "    }\n",
       "\n",
       "    .dataframe tbody tr th {\n",
       "        vertical-align: top;\n",
       "    }\n",
       "\n",
       "    .dataframe thead th {\n",
       "        text-align: right;\n",
       "    }\n",
       "</style>\n",
       "<table border=\"1\" class=\"dataframe\">\n",
       "  <thead>\n",
       "    <tr style=\"text-align: right;\">\n",
       "      <th></th>\n",
       "      <th>Hour</th>\n",
       "      <th>Participant</th>\n",
       "      <th>Type</th>\n",
       "      <th>Price (cents/KWh)</th>\n",
       "      <th>Quantity (KW)</th>\n",
       "    </tr>\n",
       "  </thead>\n",
       "  <tbody>\n",
       "    <tr>\n",
       "      <th>0</th>\n",
       "      <td>0</td>\n",
       "      <td>0</td>\n",
       "      <td>Bid</td>\n",
       "      <td>31</td>\n",
       "      <td>3</td>\n",
       "    </tr>\n",
       "    <tr>\n",
       "      <th>1</th>\n",
       "      <td>0</td>\n",
       "      <td>1</td>\n",
       "      <td>Bid</td>\n",
       "      <td>27</td>\n",
       "      <td>4</td>\n",
       "    </tr>\n",
       "    <tr>\n",
       "      <th>2</th>\n",
       "      <td>0</td>\n",
       "      <td>2</td>\n",
       "      <td>Bid</td>\n",
       "      <td>10</td>\n",
       "      <td>5</td>\n",
       "    </tr>\n",
       "    <tr>\n",
       "      <th>3</th>\n",
       "      <td>0</td>\n",
       "      <td>3</td>\n",
       "      <td>Ask</td>\n",
       "      <td>27</td>\n",
       "      <td>6</td>\n",
       "    </tr>\n",
       "    <tr>\n",
       "      <th>4</th>\n",
       "      <td>0</td>\n",
       "      <td>4</td>\n",
       "      <td>Ask</td>\n",
       "      <td>28</td>\n",
       "      <td>9</td>\n",
       "    </tr>\n",
       "    <tr>\n",
       "      <th>5</th>\n",
       "      <td>0</td>\n",
       "      <td>5</td>\n",
       "      <td>Ask</td>\n",
       "      <td>25</td>\n",
       "      <td>6</td>\n",
       "    </tr>\n",
       "  </tbody>\n",
       "</table>\n",
       "</div>"
      ],
      "text/plain": [
       "  Hour Participant Type Price (cents/KWh) Quantity (KW)\n",
       "0    0           0  Bid                31             3\n",
       "1    0           1  Bid                27             4\n",
       "2    0           2  Bid                10             5\n",
       "3    0           3  Ask                27             6\n",
       "4    0           4  Ask                28             9\n",
       "5    0           5  Ask                25             6"
      ]
     },
     "execution_count": 12,
     "metadata": {},
     "output_type": "execute_result"
    }
   ],
   "source": [
    "df[df[\"Hour\"]==0]"
   ]
  },
  {
   "cell_type": "code",
   "execution_count": 13,
   "metadata": {},
   "outputs": [
    {
     "name": "stdout",
     "output_type": "stream",
     "text": [
      "Problem name: ET\n",
      "\n",
      "Minimize\n",
      "  0\n",
      "\n",
      "Subject to\n",
      "  No constraints\n",
      "\n",
      "  Binary variables (4)\n",
      "    x_0_2 x_0_3 x_1_2 x_1_3\n",
      "\n"
     ]
    }
   ],
   "source": [
    "hour = 23\n",
    "\n",
    "for i in range(int(len(df[df[\"Hour\"]==hour])/2)): #consumers\n",
    "    for j in range(int(len(df[df[\"Hour\"]==hour])/2),int(len(df[df[\"Hour\"]==hour]))): #prosumers\n",
    "        mod.binary_var(name=f\"x_{int(i)}_{int(j)}\")\n",
    "print(mod.prettyprint())"
   ]
  },
  {
   "cell_type": "markdown",
   "metadata": {},
   "source": [
    "Now we assign the cost function given above."
   ]
  },
  {
   "cell_type": "code",
   "execution_count": 14,
   "metadata": {},
   "outputs": [],
   "source": [
    "#creating the cost function\n",
    "#cost\n",
    "lind_dict={}\n",
    "\n",
    "for i in range(int(len(df[df[\"Hour\"]==hour])/2)): #consumers\n",
    "    for j in range(int(len(df[df[\"Hour\"]==hour])/2),int(len(df[df[\"Hour\"]==hour]))):\n",
    "        lind_dict[f\"x_{int(i)}_{int(j)}\"]=df.loc[df[\"Hour\"] == hour, \"Price (cents/KWh)\"].values[i]-df.loc[df[\"Hour\"] == hour, \"Price (cents/KWh)\"].values[j]\\\n",
    "            *min(df.loc[df[\"Hour\"] == 2, \"Quantity (KW)\"].values[i],df.loc[df[\"Hour\"] == 2, \"Quantity (KW)\"].values[j])\n"
   ]
  },
  {
   "cell_type": "code",
   "execution_count": 15,
   "metadata": {},
   "outputs": [
    {
     "data": {
      "text/plain": [
       "{'x_0_2': -18, 'x_0_3': 5, 'x_1_2': -112, 'x_1_3': 4}"
      ]
     },
     "execution_count": 15,
     "metadata": {},
     "output_type": "execute_result"
    }
   ],
   "source": [
    "lind_dict"
   ]
  },
  {
   "cell_type": "code",
   "execution_count": 16,
   "metadata": {},
   "outputs": [
    {
     "name": "stdout",
     "output_type": "stream",
     "text": [
      "Problem name: ET\n",
      "\n",
      "Maximize\n",
      "  -18*x_0_2 + 5*x_0_3 - 112*x_1_2 + 4*x_1_3\n",
      "\n",
      "Subject to\n",
      "  No constraints\n",
      "\n",
      "  Binary variables (4)\n",
      "    x_0_2 x_0_3 x_1_2 x_1_3\n",
      "\n"
     ]
    }
   ],
   "source": [
    "mod.maximize(linear=lind_dict)\n",
    "print(mod.prettyprint())"
   ]
  },
  {
   "cell_type": "markdown",
   "metadata": {},
   "source": [
    "We create the constraints given above."
   ]
  },
  {
   "cell_type": "code",
   "execution_count": 17,
   "metadata": {},
   "outputs": [],
   "source": [
    "#constraint consumers\n",
    "constraints_consumer={}\n",
    "for i in range(int(len(df[df[\"Hour\"]==hour])/2)):\n",
    "    constraints_consumer[f\"consumer_ID_{i}\"] = {}\n",
    "    for j in range(int(len(df[df[\"Hour\"]==hour])/2),int(len(df[df[\"Hour\"]==hour]))):\n",
    "        constraints_consumer[f\"consumer_ID_{i}\"][f\"x_{i}_{j}\"] = min(df.loc[df[\"Hour\"] == hour, \"Quantity (KW)\"].values[i],df.loc[df[\"Hour\"] == hour, \"Quantity (KW)\"].values[j])\n",
    "\n",
    "#constraint prosumers\n",
    "constraints_prosumer={}\n",
    "for j in range(int(len(df[df[\"Hour\"]==hour])/2),int(len(df[df[\"Hour\"]==hour]))):\n",
    "    constraints_prosumer[f\"prosumer_ID_{j}\"] = {}\n",
    "    for i in range(int(len(df[df[\"Hour\"]==hour])/2)):\n",
    "        constraints_prosumer[f\"prosumer_ID_{j}\"][f\"x_{i}_{j}\"] = min(df.loc[df[\"Hour\"] == hour, \"Quantity (KW)\"].values[i],df.loc[df[\"Hour\"] == hour, \"Quantity (KW)\"].values[j])\n"
   ]
  },
  {
   "cell_type": "code",
   "execution_count": 18,
   "metadata": {},
   "outputs": [
    {
     "data": {
      "text/plain": [
       "{'consumer_ID_0': {'x_0_2': 4, 'x_0_3': 4},\n",
       " 'consumer_ID_1': {'x_1_2': 3, 'x_1_3': 3}}"
      ]
     },
     "execution_count": 18,
     "metadata": {},
     "output_type": "execute_result"
    }
   ],
   "source": [
    "#this is a dictinary\n",
    "constraints_consumer"
   ]
  },
  {
   "cell_type": "code",
   "execution_count": 19,
   "metadata": {},
   "outputs": [],
   "source": [
    "#adding consumer_constraints\n",
    "for i in range(int(len(df[df[\"Hour\"]==hour])/2)):\n",
    "    mod.linear_constraint(linear=constraints_consumer[f\"consumer_ID_{i}\"], sense=\"<=\", rhs=df.loc[df[\"Hour\"] == hour, \"Quantity (KW)\"].values[i], name=f\"cons_constraint_{i}\")\n",
    "\n",
    "#adding prosumer_constraints\n",
    "for j in range(int(len(df[df[\"Hour\"]==hour])/2),int(len(df[df[\"Hour\"]==hour]))):\n",
    "    mod.linear_constraint(linear=constraints_prosumer[f\"prosumer_ID_{j}\"], sense=\"<=\", rhs=df.loc[df[\"Hour\"] == hour, \"Quantity (KW)\"].values[j], name=f\"pros_constraint_{j}\")"
   ]
  },
  {
   "cell_type": "code",
   "execution_count": 20,
   "metadata": {},
   "outputs": [
    {
     "name": "stdout",
     "output_type": "stream",
     "text": [
      "Problem name: ET\n",
      "\n",
      "Maximize\n",
      "  -18*x_0_2 + 5*x_0_3 - 112*x_1_2 + 4*x_1_3\n",
      "\n",
      "Subject to\n",
      "  Linear constraints (4)\n",
      "    4*x_0_2 + 4*x_0_3 <= 4  'cons_constraint_0'\n",
      "    3*x_1_2 + 3*x_1_3 <= 3  'cons_constraint_1'\n",
      "    4*x_0_2 + 3*x_1_2 <= 7  'pros_constraint_2'\n",
      "    4*x_0_3 + 3*x_1_3 <= 10  'pros_constraint_3'\n",
      "\n",
      "  Binary variables (4)\n",
      "    x_0_2 x_0_3 x_1_2 x_1_3\n",
      "\n"
     ]
    }
   ],
   "source": [
    "print(mod.prettyprint())"
   ]
  },
  {
   "cell_type": "markdown",
   "metadata": {},
   "source": [
    "Let's convert the program to QUBO"
   ]
  },
  {
   "cell_type": "code",
   "execution_count": 21,
   "metadata": {},
   "outputs": [],
   "source": [
    "from qiskit_optimization.converters import QuadraticProgramToQubo\n",
    "\n",
    "conv = QuadraticProgramToQubo()\n",
    "mod_qubo = conv.convert(mod)"
   ]
  },
  {
   "cell_type": "code",
   "execution_count": 22,
   "metadata": {},
   "outputs": [
    {
     "name": "stdout",
     "output_type": "stream",
     "text": [
      "Problem name: ET\n",
      "\n",
      "Minimize\n",
      "  140*cons_constraint_0@int_slack@0^2\n",
      "  + 560*cons_constraint_0@int_slack@0*cons_constraint_0@int_slack@1\n",
      "  + 280*cons_constraint_0@int_slack@0*cons_constraint_0@int_slack@2\n",
      "  + 560*cons_constraint_0@int_slack@1^2\n",
      "  + 560*cons_constraint_0@int_slack@1*cons_constraint_0@int_slack@2\n",
      "  + 140*cons_constraint_0@int_slack@2^2 + 140*cons_constraint_1@int_slack@0^2\n",
      "  + 560*cons_constraint_1@int_slack@0*cons_constraint_1@int_slack@1\n",
      "  + 560*cons_constraint_1@int_slack@1^2 + 140*pros_constraint_2@int_slack@0^2\n",
      "  + 560*pros_constraint_2@int_slack@0*pros_constraint_2@int_slack@1\n",
      "  + 1120*pros_constraint_2@int_slack@0*pros_constraint_2@int_slack@2\n",
      "  + 560*pros_constraint_2@int_slack@1^2\n",
      "  + 2240*pros_constraint_2@int_slack@1*pros_constraint_2@int_slack@2\n",
      "  + 2240*pros_constraint_2@int_slack@2^2 + 140*pros_constraint_3@int_slack@0^2\n",
      "  + 560*pros_constraint_3@int_slack@0*pros_constraint_3@int_slack@1\n",
      "  + 1120*pros_constraint_3@int_slack@0*pros_constraint_3@int_slack@2\n",
      "  + 840*pros_constraint_3@int_slack@0*pros_constraint_3@int_slack@3\n",
      "  + 560*pros_constraint_3@int_slack@1^2\n",
      "  + 2240*pros_constraint_3@int_slack@1*pros_constraint_3@int_slack@2\n",
      "  + 1680*pros_constraint_3@int_slack@1*pros_constraint_3@int_slack@3\n",
      "  + 2240*pros_constraint_3@int_slack@2^2\n",
      "  + 3360*pros_constraint_3@int_slack@2*pros_constraint_3@int_slack@3\n",
      "  + 1260*pros_constraint_3@int_slack@3^2\n",
      "  + 1120*x_0_2*cons_constraint_0@int_slack@0\n",
      "  + 2240*x_0_2*cons_constraint_0@int_slack@1\n",
      "  + 1120*x_0_2*cons_constraint_0@int_slack@2\n",
      "  + 1120*x_0_2*pros_constraint_2@int_slack@0\n",
      "  + 2240*x_0_2*pros_constraint_2@int_slack@1\n",
      "  + 4480*x_0_2*pros_constraint_2@int_slack@2 + 4480*x_0_2^2 + 4480*x_0_2*x_0_3\n",
      "  + 3360*x_0_2*x_1_2 + 1120*x_0_3*cons_constraint_0@int_slack@0\n",
      "  + 2240*x_0_3*cons_constraint_0@int_slack@1\n",
      "  + 1120*x_0_3*cons_constraint_0@int_slack@2\n",
      "  + 1120*x_0_3*pros_constraint_3@int_slack@0\n",
      "  + 2240*x_0_3*pros_constraint_3@int_slack@1\n",
      "  + 4480*x_0_3*pros_constraint_3@int_slack@2\n",
      "  + 3360*x_0_3*pros_constraint_3@int_slack@3 + 4480*x_0_3^2 + 3360*x_0_3*x_1_3\n",
      "  + 840*x_1_2*cons_constraint_1@int_slack@0\n",
      "  + 1680*x_1_2*cons_constraint_1@int_slack@1\n",
      "  + 840*x_1_2*pros_constraint_2@int_slack@0\n",
      "  + 1680*x_1_2*pros_constraint_2@int_slack@1\n",
      "  + 3360*x_1_2*pros_constraint_2@int_slack@2 + 2520*x_1_2^2 + 2520*x_1_2*x_1_3\n",
      "  + 840*x_1_3*cons_constraint_1@int_slack@0\n",
      "  + 1680*x_1_3*cons_constraint_1@int_slack@1\n",
      "  + 840*x_1_3*pros_constraint_3@int_slack@0\n",
      "  + 1680*x_1_3*pros_constraint_3@int_slack@1\n",
      "  + 3360*x_1_3*pros_constraint_3@int_slack@2\n",
      "  + 2520*x_1_3*pros_constraint_3@int_slack@3 + 2520*x_1_3^2\n",
      "  - 1120*cons_constraint_0@int_slack@0 - 2240*cons_constraint_0@int_slack@1\n",
      "  - 1120*cons_constraint_0@int_slack@2 - 840*cons_constraint_1@int_slack@0\n",
      "  - 1680*cons_constraint_1@int_slack@1 - 1960*pros_constraint_2@int_slack@0\n",
      "  - 3920*pros_constraint_2@int_slack@1 - 7840*pros_constraint_2@int_slack@2\n",
      "  - 2800*pros_constraint_3@int_slack@0 - 5600*pros_constraint_3@int_slack@1\n",
      "  - 11200*pros_constraint_3@int_slack@2 - 8400*pros_constraint_3@int_slack@3\n",
      "  - 12302*x_0_2 - 15685*x_0_3 - 8288*x_1_2 - 10924*x_1_3 + 24360\n",
      "\n",
      "Subject to\n",
      "  No constraints\n",
      "\n",
      "  Binary variables (16)\n",
      "    x_0_2 x_0_3 x_1_2 x_1_3 cons_constraint_0@int_slack@0\n",
      "    cons_constraint_0@int_slack@1 cons_constraint_0@int_slack@2\n",
      "    cons_constraint_1@int_slack@0 cons_constraint_1@int_slack@1\n",
      "    pros_constraint_2@int_slack@0 pros_constraint_2@int_slack@1\n",
      "    pros_constraint_2@int_slack@2 pros_constraint_3@int_slack@0\n",
      "    pros_constraint_3@int_slack@1 pros_constraint_3@int_slack@2\n",
      "    pros_constraint_3@int_slack@3\n",
      "\n"
     ]
    }
   ],
   "source": [
    "print(mod_qubo.prettyprint())"
   ]
  },
  {
   "cell_type": "markdown",
   "metadata": {},
   "source": [
    "The QUBO matrix has the following form."
   ]
  },
  {
   "cell_type": "code",
   "execution_count": 23,
   "metadata": {},
   "outputs": [
    {
     "name": "stdout",
     "output_type": "stream",
     "text": [
      "Dimension: (16, 16)\n"
     ]
    }
   ],
   "source": [
    "A_tilde = mod_qubo.objective.quadratic.to_array()\n",
    "print(f\"Dimension: {A_tilde.shape}\")"
   ]
  },
  {
   "cell_type": "code",
   "execution_count": 24,
   "metadata": {},
   "outputs": [
    {
     "data": {
      "text/plain": [
       "<matplotlib.lines.Line2D at 0x1edf33096a0>"
      ]
     },
     "execution_count": 24,
     "metadata": {},
     "output_type": "execute_result"
    },
    {
     "data": {
      "image/png": "[encoded data removed]",
      "text/plain": [
       "<Figure size 640x480 with 1 Axes>"
      ]
     },
     "metadata": {},
     "output_type": "display_data"
    }
   ],
   "source": [
    "import matplotlib.pyplot as plt\n",
    "fig = plt.figure()\n",
    "ax = fig.add_subplot(1, 1, 1)\n",
    "ax.spy(A_tilde, markersize=3)"
   ]
  },
  {
   "cell_type": "code",
   "execution_count": 25,
   "metadata": {},
   "outputs": [],
   "source": [
    "from qiskit_optimization.algorithms import CplexOptimizer"
   ]
  },
  {
   "cell_type": "code",
   "execution_count": 26,
   "metadata": {},
   "outputs": [],
   "source": [
    "cplex_optimizer = CplexOptimizer()\n",
    "qubo_minimization_result = cplex_optimizer.solve(mod_qubo)"
   ]
  },
  {
   "cell_type": "code",
   "execution_count": 27,
   "metadata": {},
   "outputs": [
    {
     "name": "stdout",
     "output_type": "stream",
     "text": [
      "minimum point (binary): b_min =  [0. 1. 0. 1. 0. 0. 0. 0. 0. 1. 1. 1. 1. 1. 0. 0.]\n",
      "minimum value: f_3(b_min) =  -9.0\n"
     ]
    }
   ],
   "source": [
    "print(\"minimum point (binary): b_min = \", qubo_minimization_result.x)\n",
    "print(\"minimum value: f_3(b_min) = \", qubo_minimization_result.fval)"
   ]
  },
  {
   "cell_type": "code",
   "execution_count": 28,
   "metadata": {},
   "outputs": [
    {
     "name": "stdout",
     "output_type": "stream",
     "text": [
      "minimum point (integer): p_min =  [0. 1. 0. 1.]\n"
     ]
    }
   ],
   "source": [
    "b_min = qubo_minimization_result.x\n",
    "p_min = conv.interpret(b_min)\n",
    "print(\"minimum point (integer): p_min = \", p_min)"
   ]
  },
  {
   "cell_type": "code",
   "execution_count": 68,
   "metadata": {},
   "outputs": [
    {
     "name": "stdout",
     "output_type": "stream",
     "text": [
      "Problem name: ET\n",
      "\n",
      "Maximize\n",
      "  -18*x_0_2 + 5*x_0_3 - 112*x_1_2 + 4*x_1_3\n",
      "\n",
      "Subject to\n",
      "  Linear constraints (4)\n",
      "    4*x_0_2 + 4*x_0_3 <= 4  'cons_constraint_0'\n",
      "    3*x_1_2 + 3*x_1_3 <= 3  'cons_constraint_1'\n",
      "    4*x_0_2 + 3*x_1_2 <= 7  'pros_constraint_2'\n",
      "    4*x_0_3 + 3*x_1_3 <= 10  'pros_constraint_3'\n",
      "\n",
      "  Binary variables (4)\n",
      "    x_0_2 x_0_3 x_1_2 x_1_3\n",
      "\n"
     ]
    }
   ],
   "source": [
    "print(mod.prettyprint())"
   ]
  },
  {
   "cell_type": "code",
   "execution_count": 69,
   "metadata": {},
   "outputs": [
    {
     "data": {
      "text/html": [
       "<div>\n",
       "<style scoped>\n",
       "    .dataframe tbody tr th:only-of-type {\n",
       "        vertical-align: middle;\n",
       "    }\n",
       "\n",
       "    .dataframe tbody tr th {\n",
       "        vertical-align: top;\n",
       "    }\n",
       "\n",
       "    .dataframe thead th {\n",
       "        text-align: right;\n",
       "    }\n",
       "</style>\n",
       "<table border=\"1\" class=\"dataframe\">\n",
       "  <thead>\n",
       "    <tr style=\"text-align: right;\">\n",
       "      <th></th>\n",
       "      <th>Hour</th>\n",
       "      <th>Participant</th>\n",
       "      <th>Type</th>\n",
       "      <th>Price (cents/KWh)</th>\n",
       "      <th>Quantity (KW)</th>\n",
       "    </tr>\n",
       "  </thead>\n",
       "  <tbody>\n",
       "    <tr>\n",
       "      <th>1418</th>\n",
       "      <td>23</td>\n",
       "      <td>0</td>\n",
       "      <td>Bid</td>\n",
       "      <td>13</td>\n",
       "      <td>4</td>\n",
       "    </tr>\n",
       "    <tr>\n",
       "      <th>1419</th>\n",
       "      <td>23</td>\n",
       "      <td>1</td>\n",
       "      <td>Bid</td>\n",
       "      <td>12</td>\n",
       "      <td>3</td>\n",
       "    </tr>\n",
       "    <tr>\n",
       "      <th>1420</th>\n",
       "      <td>23</td>\n",
       "      <td>2</td>\n",
       "      <td>Ask</td>\n",
       "      <td>31</td>\n",
       "      <td>7</td>\n",
       "    </tr>\n",
       "    <tr>\n",
       "      <th>1421</th>\n",
       "      <td>23</td>\n",
       "      <td>3</td>\n",
       "      <td>Ask</td>\n",
       "      <td>8</td>\n",
       "      <td>10</td>\n",
       "    </tr>\n",
       "  </tbody>\n",
       "</table>\n",
       "</div>"
      ],
      "text/plain": [
       "     Hour Participant Type Price (cents/KWh) Quantity (KW)\n",
       "1418   23           0  Bid                13             4\n",
       "1419   23           1  Bid                12             3\n",
       "1420   23           2  Ask                31             7\n",
       "1421   23           3  Ask                 8            10"
      ]
     },
     "execution_count": 69,
     "metadata": {},
     "output_type": "execute_result"
    }
   ],
   "source": [
    "df[df[\"Hour\"]==23]"
   ]
  },
  {
   "cell_type": "markdown",
   "metadata": {},
   "source": [
    "## QAOA"
   ]
  },
  {
   "cell_type": "code",
   "execution_count": 31,
   "metadata": {},
   "outputs": [],
   "source": [
    "from qiskit.circuit.library import QAOAAnsatz"
   ]
  },
  {
   "cell_type": "code",
   "execution_count": 32,
   "metadata": {},
   "outputs": [],
   "source": [
    "ising, ising_offset = mod_qubo.to_ising()"
   ]
  },
  {
   "cell_type": "code",
   "execution_count": 33,
   "metadata": {},
   "outputs": [],
   "source": [
    "#qaoa_reps = 2\n",
    "#qaoa_ansatz = QAOAAnsatz(cost_operator=ising, reps=qaoa_reps, name = \"qaoa\")\n",
    "#qaoa_ansatz.measure_active()"
   ]
  },
  {
   "cell_type": "code",
   "execution_count": 34,
   "metadata": {},
   "outputs": [
    {
     "name": "stdout",
     "output_type": "stream",
     "text": [
      "[6920.5]\n"
     ]
    }
   ],
   "source": [
    "from qiskit.quantum_info import SparsePauliOp\n",
    "from qiskit import QuantumCircuit\n",
    "from qiskit_aer.primitives import Estimator\n",
    " \n",
    "estimator = Estimator(approximation=True, run_options={\"shots\": None})\n",
    " \n",
    "op = ising\n",
    "states_op = QuantumCircuit(len(ising.paulis[0]))\n",
    "states_op.h(range(len(ising.paulis[0])))\n",
    " \n",
    "expectation_value = estimator.run(states_op, op).result().values + ising_offset\n",
    " \n",
    "print(expectation_value)"
   ]
  },
  {
   "cell_type": "code",
   "execution_count": 35,
   "metadata": {},
   "outputs": [],
   "source": [
    "from typing import List\n",
    "\n",
    "def energy_evaluation(parameter_values: List[float]):\n",
    "    parameter_bindings = dict(zip(qaoa_ansatz.parameters, parameter_values))\n",
    "    qaoa_with_parameters = qaoa_ansatz.bind_parameters(parameter_bindings)\n",
    "    qaoa_with_parameters_decomposed = qaoa_with_parameters.decompose(reps=3)\n",
    "    estimator = Estimator(approximation=True, run_options={\"shots\": None})\n",
    "    expectation_value = estimator.run(qaoa_with_parameters_decomposed, ising).result().values + ising_offset\n",
    "    return expectation_value[0]"
   ]
  },
  {
   "cell_type": "code",
   "execution_count": 36,
   "metadata": {},
   "outputs": [
    {
     "data": {
      "text/plain": [
       "7498.412707115933"
      ]
     },
     "execution_count": 36,
     "metadata": {},
     "output_type": "execute_result"
    }
   ],
   "source": [
    "betas = [1.23, 2.31]\n",
    "gammas = [3.21, 4.32]\n",
    "\n",
    "parameter_values = [*betas, *gammas]\n",
    "parameters = qaoa_ansatz.parameters\n",
    "\n",
    "parameter_bindings = dict(zip(parameters, parameter_values))\n",
    "\n",
    "qaoa_with_parameters = qaoa_ansatz.bind_parameters(parameter_bindings)\n",
    "\n",
    "energy_evaluation([*betas, *gammas])"
   ]
  },
  {
   "cell_type": "code",
   "execution_count": 37,
   "metadata": {},
   "outputs": [],
   "source": [
    "random_generator = np.random.default_rng(1234)"
   ]
  },
  {
   "cell_type": "code",
   "execution_count": 46,
   "metadata": {},
   "outputs": [
    {
     "name": "stdout",
     "output_type": "stream",
     "text": [
      "Optimized parameters: [2.89102181 0.53705953 2.35175066 3.65056544]\n",
      "Expectation value: 5413.483472346023\n",
      "Number function evaluations: 41\n"
     ]
    }
   ],
   "source": [
    "from qiskit.algorithms.optimizers import COBYLA\n",
    "\n",
    "betas_initial_guess = np.pi*random_generator.random(qaoa_reps)\n",
    "gammas_initial_guess = 2*np.pi*random_generator.random(qaoa_reps)\n",
    "parameter_values_initial_guess = [*betas_initial_guess, *gammas_initial_guess]\n",
    "cobyla_optimizer = COBYLA()\n",
    "result_optimization = cobyla_optimizer.minimize(\n",
    "fun=energy_evaluation, x0=parameter_values_initial_guess)\n",
    "parameter_values_optimized = result_optimization.x\n",
    "energy_optimized = result_optimization.fun\n",
    "# Number of evalutions of energy_evaluation\n",
    "number_function_evaluations = result_optimization.nfev\n",
    "print(f\"Optimized parameters: {parameter_values_optimized}\")\n",
    "print(f\"Expectation value: {energy_optimized}\")\n",
    "print(f\"Number function evaluations: {number_function_evaluations}\")"
   ]
  },
  {
   "cell_type": "code",
   "execution_count": 47,
   "metadata": {},
   "outputs": [],
   "source": [
    "from qiskit_aer import AerSimulator\n",
    "number_of_shots = 8000\n",
    "aer_simulator = AerSimulator(method=\"statevector\", shots=number_of_shots)\n",
    "# Decompose the circuit such that the gates can be simulated with the\n",
    "# AerSimulator\n",
    "qaoa_with_parameters_decomposed = qaoa_with_parameters.decompose(reps=3)\n",
    "result = aer_simulator.run(qaoa_with_parameters_decomposed).result()"
   ]
  },
  {
   "cell_type": "code",
   "execution_count": 48,
   "metadata": {},
   "outputs": [],
   "source": [
    "parameter_bindings = dict(\n",
    "zip(qaoa_ansatz.parameters, parameter_values_optimized))\n",
    "qaoa_with_parameters = qaoa_ansatz.bind_parameters(parameter_bindings)\n",
    "qaoa_with_parameters_decomposed = qaoa_with_parameters.decompose(reps=3)\n",
    "result = aer_simulator.run(qaoa_with_parameters_decomposed).result()\n",
    "counts = result.get_counts()"
   ]
  },
  {
   "cell_type": "code",
   "execution_count": 50,
   "metadata": {},
   "outputs": [
    {
     "data": {
      "image/png": "[encoded data removed]",
      "text/plain": [
       "<Figure size 1000x500 with 1 Axes>"
      ]
     },
     "execution_count": 50,
     "metadata": {},
     "output_type": "execute_result"
    }
   ],
   "source": [
    "from qiskit.visualization import plot_histogram\n",
    "counts = result.get_counts()\n",
    "# Plot the 40 bitstrings with the highest count.\n",
    "plot_histogram(\n",
    "counts,\n",
    "number_to_keep=20,\n",
    "sort=\"value_desc\",\n",
    "bar_labels=False,\n",
    "figsize=(10,5))"
   ]
  },
  {
   "cell_type": "markdown",
   "metadata": {},
   "source": [
    "### QAOA clear"
   ]
  },
  {
   "cell_type": "code",
   "execution_count": 70,
   "metadata": {},
   "outputs": [],
   "source": [
    "from qiskit.circuit.library import QAOAAnsatz\n",
    "from qiskit.quantum_info import SparsePauliOp\n",
    "from qiskit import QuantumCircuit\n",
    "from qiskit_aer.primitives import Estimator\n",
    " "
   ]
  },
  {
   "cell_type": "code",
   "execution_count": 207,
   "metadata": {},
   "outputs": [
    {
     "data": {
      "text/plain": [
       "7112.113066640961"
      ]
     },
     "execution_count": 207,
     "metadata": {},
     "output_type": "execute_result"
    }
   ],
   "source": [
    "from typing import List\n",
    "\n",
    "ising, ising_offset = mod_qubo.to_ising()\n",
    "\n",
    "def energy_evaluation(parameter_values: List[float]):\n",
    "    parameter_bindings = dict(zip(qaoa_ansatz.parameters, parameter_values))\n",
    "    qaoa_with_parameters = qaoa_ansatz.bind_parameters(parameter_bindings)\n",
    "    qaoa_with_parameters_decomposed = qaoa_with_parameters.decompose(reps=15)\n",
    "    estimator = Estimator(approximation=True, run_options={\"shots\": None})\n",
    "    expectation_value = estimator.run(qaoa_with_parameters_decomposed, ising).result().values + ising_offset\n",
    "    return expectation_value[0]\n",
    "\n",
    "betas = [101.23, 104.31]\n",
    "gammas = [103.21, 204.32]\n",
    "\n",
    "parameter_values = [*betas, *gammas]\n",
    "parameters = qaoa_ansatz.parameters\n",
    "\n",
    "parameter_bindings = dict(zip(parameters, parameter_values))\n",
    "\n",
    "qaoa_with_parameters = qaoa_ansatz.bind_parameters(parameter_bindings)\n",
    "\n",
    "energy_evaluation([*betas, *gammas])"
   ]
  },
  {
   "cell_type": "code",
   "execution_count": 208,
   "metadata": {},
   "outputs": [],
   "source": [
    "random_generator = np.random.default_rng(1234)"
   ]
  },
  {
   "cell_type": "code",
   "execution_count": 209,
   "metadata": {},
   "outputs": [
    {
     "name": "stdout",
     "output_type": "stream",
     "text": [
      "Optimized parameters: [4.06870326 1.19450143 5.80090851 1.64402227]\n",
      "Expectation value: 5720.106482269705\n",
      "Number function evaluations: 47\n"
     ]
    }
   ],
   "source": [
    "from qiskit.algorithms.optimizers import COBYLA\n",
    "\n",
    "betas_initial_guess = np.pi*random_generator.random(qaoa_reps)\n",
    "gammas_initial_guess = 2*np.pi*random_generator.random(qaoa_reps)\n",
    "parameter_values_initial_guess = [*betas_initial_guess, *gammas_initial_guess]\n",
    "cobyla_optimizer = COBYLA()\n",
    "result_optimization = cobyla_optimizer.minimize(\n",
    "fun=energy_evaluation, x0=parameter_values_initial_guess)\n",
    "parameter_values_optimized = result_optimization.x\n",
    "energy_optimized = result_optimization.fun\n",
    "# Number of evalutions of energy_evaluation\n",
    "number_function_evaluations = result_optimization.nfev\n",
    "print(f\"Optimized parameters: {parameter_values_optimized}\")\n",
    "print(f\"Expectation value: {energy_optimized}\")\n",
    "print(f\"Number function evaluations: {number_function_evaluations}\")"
   ]
  },
  {
   "cell_type": "markdown",
   "metadata": {},
   "source": [
    "Optimized parameters: [3.97742115 2.70602569 4.46558273 5.14329084]\n",
    "Expectation value: 5734.752832622897\n",
    "Number function evaluations: 50\n",
    "\n",
    "\n",
    "Optimized parameters: [4.06870326 1.19450143 5.80090851 1.64402227]\n",
    "Expectation value: 5720.106482269705\n",
    "Number function evaluations: 47\n",
    "\n",
    "\n",
    "Optimized parameters: [1.02903126 1.25518298 2.50226982 2.96769672]\n",
    "Expectation value: 4751.712142585914\n",
    "Number function evaluations: 45"
   ]
  },
  {
   "cell_type": "code",
   "execution_count": 210,
   "metadata": {},
   "outputs": [],
   "source": [
    "from qiskit_aer import AerSimulator\n",
    "\n",
    "number_of_shots = 80000\n",
    "aer_simulator = AerSimulator(method=\"statevector\", shots=number_of_shots)\n",
    "qaoa_with_parameters_decomposed = qaoa_with_parameters.decompose(reps=15)\n",
    "result = aer_simulator.run(qaoa_with_parameters_decomposed).result()\n",
    "\n",
    "parameter_bindings = dict(\n",
    "zip(qaoa_ansatz.parameters, parameter_values_optimized))\n",
    "qaoa_with_parameters = qaoa_ansatz.bind_parameters(parameter_bindings)\n",
    "qaoa_with_parameters_decomposed = qaoa_with_parameters.decompose(reps=15)\n",
    "result = aer_simulator.run(qaoa_with_parameters_decomposed).result()\n",
    "counts = result.get_counts()"
   ]
  },
  {
   "cell_type": "code",
   "execution_count": 211,
   "metadata": {},
   "outputs": [
    {
     "data": {
      "image/png": "[encoded data removed]",
      "text/plain": [
       "<Figure size 1000x500 with 1 Axes>"
      ]
     },
     "execution_count": 211,
     "metadata": {},
     "output_type": "execute_result"
    }
   ],
   "source": [
    "from qiskit.visualization import plot_histogram\n",
    "counts = result.get_counts()\n",
    "# Plot the 40 bitstrings with the highest count.\n",
    "plot_histogram(\n",
    "counts,\n",
    "number_to_keep=50,\n",
    "sort=\"value_desc\",\n",
    "bar_labels=False,\n",
    "figsize=(10,5))"
   ]
  },
  {
   "cell_type": "code",
   "execution_count": 112,
   "metadata": {},
   "outputs": [
    {
     "name": "stdout",
     "output_type": "stream",
     "text": [
      "Problem name: ET\n",
      "\n",
      "Maximize\n",
      "  -18*x_0_2 + 5*x_0_3 - 112*x_1_2 + 4*x_1_3\n",
      "\n",
      "Subject to\n",
      "  Linear constraints (4)\n",
      "    4*x_0_2 + 4*x_0_3 <= 4  'cons_constraint_0'\n",
      "    3*x_1_2 + 3*x_1_3 <= 3  'cons_constraint_1'\n",
      "    4*x_0_2 + 3*x_1_2 <= 7  'pros_constraint_2'\n",
      "    4*x_0_3 + 3*x_1_3 <= 10  'pros_constraint_3'\n",
      "\n",
      "  Binary variables (4)\n",
      "    x_0_2 x_0_3 x_1_2 x_1_3\n",
      "\n"
     ]
    }
   ],
   "source": [
    "print(mod.prettyprint())"
   ]
  },
  {
   "cell_type": "code",
   "execution_count": 144,
   "metadata": {},
   "outputs": [
    {
     "name": "stdout",
     "output_type": "stream",
     "text": [
      "Problem name: ET\n",
      "\n",
      "Minimize\n",
      "  140*cons_constraint_0@int_slack@0^2\n",
      "  + 560*cons_constraint_0@int_slack@0*cons_constraint_0@int_slack@1\n",
      "  + 280*cons_constraint_0@int_slack@0*cons_constraint_0@int_slack@2\n",
      "  + 560*cons_constraint_0@int_slack@1^2\n",
      "  + 560*cons_constraint_0@int_slack@1*cons_constraint_0@int_slack@2\n",
      "  + 140*cons_constraint_0@int_slack@2^2 + 140*cons_constraint_1@int_slack@0^2\n",
      "  + 560*cons_constraint_1@int_slack@0*cons_constraint_1@int_slack@1\n",
      "  + 560*cons_constraint_1@int_slack@1^2 + 140*pros_constraint_2@int_slack@0^2\n",
      "  + 560*pros_constraint_2@int_slack@0*pros_constraint_2@int_slack@1\n",
      "  + 1120*pros_constraint_2@int_slack@0*pros_constraint_2@int_slack@2\n",
      "  + 560*pros_constraint_2@int_slack@1^2\n",
      "  + 2240*pros_constraint_2@int_slack@1*pros_constraint_2@int_slack@2\n",
      "  + 2240*pros_constraint_2@int_slack@2^2 + 140*pros_constraint_3@int_slack@0^2\n",
      "  + 560*pros_constraint_3@int_slack@0*pros_constraint_3@int_slack@1\n",
      "  + 1120*pros_constraint_3@int_slack@0*pros_constraint_3@int_slack@2\n",
      "  + 840*pros_constraint_3@int_slack@0*pros_constraint_3@int_slack@3\n",
      "  + 560*pros_constraint_3@int_slack@1^2\n",
      "  + 2240*pros_constraint_3@int_slack@1*pros_constraint_3@int_slack@2\n",
      "  + 1680*pros_constraint_3@int_slack@1*pros_constraint_3@int_slack@3\n",
      "  + 2240*pros_constraint_3@int_slack@2^2\n",
      "  + 3360*pros_constraint_3@int_slack@2*pros_constraint_3@int_slack@3\n",
      "  + 1260*pros_constraint_3@int_slack@3^2\n",
      "  + 1120*x_0_2*cons_constraint_0@int_slack@0\n",
      "  + 2240*x_0_2*cons_constraint_0@int_slack@1\n",
      "  + 1120*x_0_2*cons_constraint_0@int_slack@2\n",
      "  + 1120*x_0_2*pros_constraint_2@int_slack@0\n",
      "  + 2240*x_0_2*pros_constraint_2@int_slack@1\n",
      "  + 4480*x_0_2*pros_constraint_2@int_slack@2 + 4480*x_0_2^2 + 4480*x_0_2*x_0_3\n",
      "  + 3360*x_0_2*x_1_2 + 1120*x_0_3*cons_constraint_0@int_slack@0\n",
      "  + 2240*x_0_3*cons_constraint_0@int_slack@1\n",
      "  + 1120*x_0_3*cons_constraint_0@int_slack@2\n",
      "  + 1120*x_0_3*pros_constraint_3@int_slack@0\n",
      "  + 2240*x_0_3*pros_constraint_3@int_slack@1\n",
      "  + 4480*x_0_3*pros_constraint_3@int_slack@2\n",
      "  + 3360*x_0_3*pros_constraint_3@int_slack@3 + 4480*x_0_3^2 + 3360*x_0_3*x_1_3\n",
      "  + 840*x_1_2*cons_constraint_1@int_slack@0\n",
      "  + 1680*x_1_2*cons_constraint_1@int_slack@1\n",
      "  + 840*x_1_2*pros_constraint_2@int_slack@0\n",
      "  + 1680*x_1_2*pros_constraint_2@int_slack@1\n",
      "  + 3360*x_1_2*pros_constraint_2@int_slack@2 + 2520*x_1_2^2 + 2520*x_1_2*x_1_3\n",
      "  + 840*x_1_3*cons_constraint_1@int_slack@0\n",
      "  + 1680*x_1_3*cons_constraint_1@int_slack@1\n",
      "  + 840*x_1_3*pros_constraint_3@int_slack@0\n",
      "  + 1680*x_1_3*pros_constraint_3@int_slack@1\n",
      "  + 3360*x_1_3*pros_constraint_3@int_slack@2\n",
      "  + 2520*x_1_3*pros_constraint_3@int_slack@3 + 2520*x_1_3^2\n",
      "  - 1120*cons_constraint_0@int_slack@0 - 2240*cons_constraint_0@int_slack@1\n",
      "  - 1120*cons_constraint_0@int_slack@2 - 840*cons_constraint_1@int_slack@0\n",
      "  - 1680*cons_constraint_1@int_slack@1 - 1960*pros_constraint_2@int_slack@0\n",
      "  - 3920*pros_constraint_2@int_slack@1 - 7840*pros_constraint_2@int_slack@2\n",
      "  - 2800*pros_constraint_3@int_slack@0 - 5600*pros_constraint_3@int_slack@1\n",
      "  - 11200*pros_constraint_3@int_slack@2 - 8400*pros_constraint_3@int_slack@3\n",
      "  - 12302*x_0_2 - 15685*x_0_3 - 8288*x_1_2 - 10924*x_1_3 + 24360\n",
      "\n",
      "Subject to\n",
      "  No constraints\n",
      "\n",
      "  Binary variables (16)\n",
      "    x_0_2 x_0_3 x_1_2 x_1_3 cons_constraint_0@int_slack@0\n",
      "    cons_constraint_0@int_slack@1 cons_constraint_0@int_slack@2\n",
      "    cons_constraint_1@int_slack@0 cons_constraint_1@int_slack@1\n",
      "    pros_constraint_2@int_slack@0 pros_constraint_2@int_slack@1\n",
      "    pros_constraint_2@int_slack@2 pros_constraint_3@int_slack@0\n",
      "    pros_constraint_3@int_slack@1 pros_constraint_3@int_slack@2\n",
      "    pros_constraint_3@int_slack@3\n",
      "\n"
     ]
    }
   ],
   "source": [
    "print(mod_qubo.prettyprint())"
   ]
  },
  {
   "cell_type": "code",
   "execution_count": 162,
   "metadata": {},
   "outputs": [
    {
     "data": {
      "text/plain": [
       "6920.5"
      ]
     },
     "execution_count": 162,
     "metadata": {},
     "output_type": "execute_result"
    }
   ],
   "source": [
    "ising_offset"
   ]
  },
  {
   "cell_type": "code",
   "execution_count": null,
   "metadata": {},
   "outputs": [],
   "source": []
  }
 ],
 "metadata": {
  "kernelspec": {
   "display_name": "base",
   "language": "python",
   "name": "python3"
  },
  "language_info": {
   "codemirror_mode": {
    "name": "ipython",
    "version": 3
   },
   "file_extension": ".py",
   "mimetype": "text/x-python",
   "name": "python",
   "nbconvert_exporter": "python",
   "pygments_lexer": "ipython3",
   "version": "3.9.13"
  }
 },
 "nbformat": 4,
 "nbformat_minor": 2
}
