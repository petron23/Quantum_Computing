{
 "cells": [
  {
   "cell_type": "code",
   "execution_count": 2,
   "metadata": {},
   "outputs": [],
   "source": [
    "import numpy as np\n",
    "import pandas as pd\n",
    "import matplotlib.pyplot as plt\n",
    "from scipy.stats import norm\n",
    "from qiskit_optimization import QuadraticProgram"
   ]
  },
  {
   "cell_type": "markdown",
   "metadata": {},
   "source": [
    "# Creating synthetic data for P2P energy training"
   ]
  },
  {
   "cell_type": "code",
   "execution_count": 77,
   "metadata": {},
   "outputs": [
    {
     "name": "stdout",
     "output_type": "stream",
     "text": [
      "hour:0 4.0\n",
      "hour:1 8.0\n",
      "hour:2 14.0\n",
      "hour:3 22.0\n",
      "hour:4 32.0\n",
      "hour:5 48.0\n",
      "hour:6 60.0\n",
      "hour:7 78.0\n",
      "hour:8 88.0\n",
      "hour:9 100.0\n",
      "hour:10 106.0\n",
      "hour:11 114.0\n",
      "hour:12 122.0\n",
      "hour:13 106.0\n",
      "hour:14 102.0\n",
      "hour:15 90.0\n",
      "hour:16 74.0\n",
      "hour:17 64.0\n",
      "hour:18 48.0\n",
      "hour:19 32.0\n",
      "hour:20 20.0\n",
      "hour:21 12.0\n",
      "hour:22 10.0\n",
      "hour:23 6.0\n"
     ]
    }
   ],
   "source": [
    "samples = np.random.normal(loc=11.5, scale=4.7, size=15000)\n",
    "\n",
    "hours = np.arange(24)\n",
    "min_value = 10\n",
    "max_value = 123\n",
    "\n",
    "participants_dict_per_hourdict={}\n",
    "for hour in hours:\n",
    "    participants_dict_per_hourdict[f\"{hour}\"] = 0\n",
    "    for sample in samples:\n",
    "        if np.abs(sample - hour)<.5:\n",
    "              participants_dict_per_hourdict[f\"{hour}\"]+=1 \n",
    "participants_by_hour = np.asarray(list(participants_dict_per_hourdict.values()))\n",
    "participants_by_hour = participants_by_hour/np.max(participants_by_hour) * max_value\n",
    "\n",
    "#either we set the values below min_value to min_value or throw it a away\n",
    "#participants_by_hour[participants_by_hour<min_value] = 0\n",
    "#participants_by_hour = np.clip(participants_by_hour/np.max(participants_by_hour) * max_value, a_min=min_value, a_max=max_value)\n",
    "\n",
    "columns = ['Hour', 'Participant', 'Type', 'Price (cents/KWh)', 'Quantity (KW)']\n",
    "df = pd.DataFrame(columns=columns)\n",
    "\n",
    "# Generate bids and asks for each hour\n",
    "for hour in hours:\n",
    "    #print(hour)\n",
    "    participants_by_hour[hour]=int(participants_by_hour[hour])\n",
    "    if participants_by_hour[hour]%2!=0:\n",
    "        participants_by_hour[hour]-=1\n",
    "    print(f\"hour:{hour}\",participants_by_hour[hour])\n",
    "    num_prosumers = int(participants_by_hour[hour]/2)\n",
    "    num_consumers = int(participants_by_hour[hour] - num_prosumers)\n",
    "\n",
    "\n",
    "    if participants_by_hour[hour] > 0:\n",
    "    # Generate prosumer bids\n",
    "        prosumer_bids = pd.DataFrame({\n",
    "            'Hour': hour,\n",
    "            'Participant': np.arange(num_prosumers),\n",
    "            'Type': 'Bid',\n",
    "            'Price (cents/KWh)': np.random.randint(8, 33, size=num_prosumers),\n",
    "            'Quantity (KW)': np.random.randint(1, 6, size=num_prosumers)\n",
    "        })\n",
    "\n",
    "    # Generate consumer asks\n",
    "        consumer_asks = pd.DataFrame({\n",
    "            'Hour': hour,\n",
    "            'Participant': np.arange(num_prosumers, num_prosumers + num_consumers),\n",
    "            'Type': 'Ask',\n",
    "            'Price (cents/KWh)': np.random.randint(8, 33, size=num_consumers),\n",
    "            'Quantity (KW)': np.random.randint(5, 11, size=num_consumers)\n",
    "        })\n",
    "    else:\n",
    "        # Generate prosumer bids\n",
    "        prosumer_bids = pd.DataFrame({\n",
    "            'Hour': hour,\n",
    "            'Participant': [None],\n",
    "            'Type': 'Bid',\n",
    "            'Price (cents/KWh)': 0,\n",
    "            'Quantity (KW)': 0\n",
    "        })\n",
    "\n",
    "    # Generate consumer asks\n",
    "        consumer_asks = pd.DataFrame({\n",
    "            'Hour': hour,\n",
    "            'Participant': [None],\n",
    "            'Type': 'Ask',\n",
    "            'Price (cents/KWh)': 0,\n",
    "            'Quantity (KW)': 0\n",
    "        })\n",
    "    \n",
    "\n",
    "    # Concatenate prosumer bids and consumer asks\n",
    "    hour_data = pd.concat([prosumer_bids, consumer_asks], ignore_index=True)\n",
    "\n",
    "    # Add the generated data to the main DataFrame\n",
    "    df = pd.concat([df, hour_data], ignore_index=True)\n",
    "\n",
    "    df[\"Participant\"]\n",
    "# Sort the DataFrame based on hour and participant\n",
    "df.sort_values(by=['Hour', 'Participant'], inplace=True, ignore_index=True)"
   ]
  },
  {
   "cell_type": "code",
   "execution_count": 78,
   "metadata": {},
   "outputs": [
    {
     "data": {
      "text/html": [
       "<div>\n",
       "<style scoped>\n",
       "    .dataframe tbody tr th:only-of-type {\n",
       "        vertical-align: middle;\n",
       "    }\n",
       "\n",
       "    .dataframe tbody tr th {\n",
       "        vertical-align: top;\n",
       "    }\n",
       "\n",
       "    .dataframe thead th {\n",
       "        text-align: right;\n",
       "    }\n",
       "</style>\n",
       "<table border=\"1\" class=\"dataframe\">\n",
       "  <thead>\n",
       "    <tr style=\"text-align: right;\">\n",
       "      <th></th>\n",
       "      <th>Hour</th>\n",
       "      <th>Participant</th>\n",
       "      <th>Type</th>\n",
       "      <th>Price (cents/KWh)</th>\n",
       "      <th>Quantity (KW)</th>\n",
       "    </tr>\n",
       "  </thead>\n",
       "  <tbody>\n",
       "    <tr>\n",
       "      <th>0</th>\n",
       "      <td>0</td>\n",
       "      <td>0</td>\n",
       "      <td>Bid</td>\n",
       "      <td>10</td>\n",
       "      <td>3</td>\n",
       "    </tr>\n",
       "    <tr>\n",
       "      <th>1</th>\n",
       "      <td>0</td>\n",
       "      <td>1</td>\n",
       "      <td>Bid</td>\n",
       "      <td>22</td>\n",
       "      <td>2</td>\n",
       "    </tr>\n",
       "    <tr>\n",
       "      <th>2</th>\n",
       "      <td>0</td>\n",
       "      <td>2</td>\n",
       "      <td>Ask</td>\n",
       "      <td>32</td>\n",
       "      <td>6</td>\n",
       "    </tr>\n",
       "    <tr>\n",
       "      <th>3</th>\n",
       "      <td>0</td>\n",
       "      <td>3</td>\n",
       "      <td>Ask</td>\n",
       "      <td>25</td>\n",
       "      <td>9</td>\n",
       "    </tr>\n",
       "  </tbody>\n",
       "</table>\n",
       "</div>"
      ],
      "text/plain": [
       "  Hour Participant Type Price (cents/KWh) Quantity (KW)\n",
       "0    0           0  Bid                10             3\n",
       "1    0           1  Bid                22             2\n",
       "2    0           2  Ask                32             6\n",
       "3    0           3  Ask                25             9"
      ]
     },
     "execution_count": 78,
     "metadata": {},
     "output_type": "execute_result"
    }
   ],
   "source": [
    "df[df[\"Hour\"]==0]"
   ]
  },
  {
   "cell_type": "code",
   "execution_count": 79,
   "metadata": {},
   "outputs": [],
   "source": [
    "df_length_per_hour = df.groupby('Hour').size()"
   ]
  },
  {
   "cell_type": "code",
   "execution_count": 80,
   "metadata": {},
   "outputs": [
    {
     "data": {
      "text/plain": [
       "[<matplotlib.lines.Line2D at 0x20883790dc0>]"
      ]
     },
     "execution_count": 80,
     "metadata": {},
     "output_type": "execute_result"
    },
    {
     "data": {
      "image/png": "[encoded data removed]",
      "text/plain": [
       "<Figure size 640x480 with 1 Axes>"
      ]
     },
     "metadata": {},
     "output_type": "display_data"
    }
   ],
   "source": [
    "#comparing to exact distribution\n",
    "#also cutting the cases when participants are below 10\n",
    "x = np.linspace(0,23,24)\n",
    "\n",
    "df_length_per_hour = df.groupby('Hour').size()\n",
    "#df_length_per_hour[df_length_per_hour<10] = 0\n",
    "plt.bar(df_length_per_hour.index, df_length_per_hour.values, color='blue', alpha=0.7,edgecolor='black')\n",
    "plt.plot(hours,123* norm.pdf(x, loc = 11.5, scale = 4.7)/max(norm.pdf(x, loc = 11.5, scale = 4.7)),\n",
    "       'r-', lw=5, alpha=0.6, label='norm pdf')"
   ]
  },
  {
   "cell_type": "markdown",
   "metadata": {},
   "source": [
    "# Creating QUBO"
   ]
  },
  {
   "cell_type": "markdown",
   "metadata": {},
   "source": [
    "The cost function in the original formulation"
   ]
  },
  {
   "cell_type": "markdown",
   "metadata": {},
   "source": [
    "$\\max\\limits_{x_{ij}} \\sum\\limits_{i=1}^{C}\\sum\\limits_{j=1}^{P} x_{ij}(p_i-p_j){\\text{min}}\\{Q_i,Q_j\\}$"
   ]
  },
  {
   "cell_type": "markdown",
   "metadata": {},
   "source": [
    "Subject to\n",
    "\n",
    "$\\sum\\limits_{i}^C x_{ij}{\\text{min}}\\{Q_i,Q_j\\}\\leq Q_j$\n",
    "\n",
    "\n",
    "$\\sum\\limits_{j}^P x_{ij}{\\text{min}}\\{Q_i,Q_j\\}\\leq Q_i$"
   ]
  },
  {
   "cell_type": "code",
   "execution_count": 81,
   "metadata": {},
   "outputs": [
    {
     "name": "stdout",
     "output_type": "stream",
     "text": [
      "Problem name: ET\n",
      "\n",
      "Minimize\n",
      "  0\n",
      "\n",
      "Subject to\n",
      "  No constraints\n",
      "\n",
      "  No variables\n",
      "\n"
     ]
    }
   ],
   "source": [
    "#creating the Quadratic program\n",
    "mod = QuadraticProgram(\"ET\")\n",
    "print(mod.prettyprint())"
   ]
  },
  {
   "cell_type": "markdown",
   "metadata": {},
   "source": [
    "As of yet we are going to fill this up with the bids and asks from a given time interval, e.g. 2."
   ]
  },
  {
   "cell_type": "code",
   "execution_count": 82,
   "metadata": {},
   "outputs": [
    {
     "data": {
      "text/html": [
       "<div>\n",
       "<style scoped>\n",
       "    .dataframe tbody tr th:only-of-type {\n",
       "        vertical-align: middle;\n",
       "    }\n",
       "\n",
       "    .dataframe tbody tr th {\n",
       "        vertical-align: top;\n",
       "    }\n",
       "\n",
       "    .dataframe thead th {\n",
       "        text-align: right;\n",
       "    }\n",
       "</style>\n",
       "<table border=\"1\" class=\"dataframe\">\n",
       "  <thead>\n",
       "    <tr style=\"text-align: right;\">\n",
       "      <th></th>\n",
       "      <th>Hour</th>\n",
       "      <th>Participant</th>\n",
       "      <th>Type</th>\n",
       "      <th>Price (cents/KWh)</th>\n",
       "      <th>Quantity (KW)</th>\n",
       "    </tr>\n",
       "  </thead>\n",
       "  <tbody>\n",
       "    <tr>\n",
       "      <th>0</th>\n",
       "      <td>0</td>\n",
       "      <td>0</td>\n",
       "      <td>Bid</td>\n",
       "      <td>10</td>\n",
       "      <td>3</td>\n",
       "    </tr>\n",
       "    <tr>\n",
       "      <th>1</th>\n",
       "      <td>0</td>\n",
       "      <td>1</td>\n",
       "      <td>Bid</td>\n",
       "      <td>22</td>\n",
       "      <td>2</td>\n",
       "    </tr>\n",
       "    <tr>\n",
       "      <th>2</th>\n",
       "      <td>0</td>\n",
       "      <td>2</td>\n",
       "      <td>Ask</td>\n",
       "      <td>32</td>\n",
       "      <td>6</td>\n",
       "    </tr>\n",
       "    <tr>\n",
       "      <th>3</th>\n",
       "      <td>0</td>\n",
       "      <td>3</td>\n",
       "      <td>Ask</td>\n",
       "      <td>25</td>\n",
       "      <td>9</td>\n",
       "    </tr>\n",
       "  </tbody>\n",
       "</table>\n",
       "</div>"
      ],
      "text/plain": [
       "  Hour Participant Type Price (cents/KWh) Quantity (KW)\n",
       "0    0           0  Bid                10             3\n",
       "1    0           1  Bid                22             2\n",
       "2    0           2  Ask                32             6\n",
       "3    0           3  Ask                25             9"
      ]
     },
     "execution_count": 82,
     "metadata": {},
     "output_type": "execute_result"
    }
   ],
   "source": [
    "df[df[\"Hour\"]==0]"
   ]
  },
  {
   "cell_type": "code",
   "execution_count": 83,
   "metadata": {},
   "outputs": [
    {
     "name": "stdout",
     "output_type": "stream",
     "text": [
      "Problem name: ET\n",
      "\n",
      "Minimize\n",
      "  0\n",
      "\n",
      "Subject to\n",
      "  No constraints\n",
      "\n",
      "  Binary variables (16)\n",
      "    x_0_4 x_0_5 x_0_6 x_0_7 x_1_4 x_1_5 x_1_6 x_1_7 x_2_4 x_2_5 x_2_6 x_2_7\n",
      "    x_3_4 x_3_5 x_3_6 x_3_7\n",
      "\n"
     ]
    }
   ],
   "source": [
    "hour = 1\n",
    "\n",
    "for i in range(int(len(df[df[\"Hour\"]==hour])/2)): #consumers\n",
    "    for j in range(int(len(df[df[\"Hour\"]==hour])/2),int(len(df[df[\"Hour\"]==hour]))): #prosumers\n",
    "        mod.binary_var(name=f\"x_{int(i)}_{int(j)}\")\n",
    "print(mod.prettyprint())"
   ]
  },
  {
   "cell_type": "markdown",
   "metadata": {},
   "source": [
    "Now we assign the cost function given above."
   ]
  },
  {
   "cell_type": "code",
   "execution_count": 84,
   "metadata": {},
   "outputs": [],
   "source": [
    "#creating the cost function\n",
    "#cost\n",
    "lind_dict={}\n",
    "\n",
    "for i in range(int(len(df[df[\"Hour\"]==hour])/2)): #consumers\n",
    "    for j in range(int(len(df[df[\"Hour\"]==hour])/2),int(len(df[df[\"Hour\"]==hour]))):\n",
    "        lind_dict[f\"x_{int(i)}_{int(j)}\"]=df.loc[df[\"Hour\"] == hour, \"Price (cents/KWh)\"].values[i]-df.loc[df[\"Hour\"] == hour, \"Price (cents/KWh)\"].values[j]\\\n",
    "            *min(df.loc[df[\"Hour\"] == 2, \"Quantity (KW)\"].values[i],df.loc[df[\"Hour\"] == 2, \"Quantity (KW)\"].values[j])\n"
   ]
  },
  {
   "cell_type": "code",
   "execution_count": 85,
   "metadata": {},
   "outputs": [
    {
     "data": {
      "text/plain": [
       "{'x_0_4': -39,\n",
       " 'x_0_5': 5,\n",
       " 'x_0_6': 1,\n",
       " 'x_0_7': -15,\n",
       " 'x_1_4': -35,\n",
       " 'x_1_5': 9,\n",
       " 'x_1_6': 5,\n",
       " 'x_1_7': -11,\n",
       " 'x_2_4': -61,\n",
       " 'x_2_5': 5,\n",
       " 'x_2_6': -1,\n",
       " 'x_2_7': -25,\n",
       " 'x_3_4': -32,\n",
       " 'x_3_5': 12,\n",
       " 'x_3_6': 8,\n",
       " 'x_3_7': -8}"
      ]
     },
     "execution_count": 85,
     "metadata": {},
     "output_type": "execute_result"
    }
   ],
   "source": [
    "lind_dict"
   ]
  },
  {
   "cell_type": "code",
   "execution_count": 86,
   "metadata": {},
   "outputs": [
    {
     "name": "stdout",
     "output_type": "stream",
     "text": [
      "Problem name: ET\n",
      "\n",
      "Maximize\n",
      "  -39*x_0_4 + 5*x_0_5 + x_0_6 - 15*x_0_7 - 35*x_1_4 + 9*x_1_5 + 5*x_1_6\n",
      "  - 11*x_1_7 - 61*x_2_4 + 5*x_2_5 - x_2_6 - 25*x_2_7 - 32*x_3_4 + 12*x_3_5\n",
      "  + 8*x_3_6 - 8*x_3_7\n",
      "\n",
      "Subject to\n",
      "  No constraints\n",
      "\n",
      "  Binary variables (16)\n",
      "    x_0_4 x_0_5 x_0_6 x_0_7 x_1_4 x_1_5 x_1_6 x_1_7 x_2_4 x_2_5 x_2_6 x_2_7\n",
      "    x_3_4 x_3_5 x_3_6 x_3_7\n",
      "\n"
     ]
    }
   ],
   "source": [
    "mod.maximize(linear=lind_dict)\n",
    "print(mod.prettyprint())"
   ]
  },
  {
   "cell_type": "markdown",
   "metadata": {},
   "source": [
    "We create the constraints given above."
   ]
  },
  {
   "cell_type": "code",
   "execution_count": 87,
   "metadata": {},
   "outputs": [],
   "source": [
    "#constraint consumers\n",
    "constraints_consumer={}\n",
    "for i in range(int(len(df[df[\"Hour\"]==hour])/2)):\n",
    "    constraints_consumer[f\"consumer_ID_{i}\"] = {}\n",
    "    for j in range(int(len(df[df[\"Hour\"]==hour])/2),int(len(df[df[\"Hour\"]==hour]))):\n",
    "        constraints_consumer[f\"consumer_ID_{i}\"][f\"x_{i}_{j}\"] = min(df.loc[df[\"Hour\"] == hour, \"Quantity (KW)\"].values[i],df.loc[df[\"Hour\"] == hour, \"Quantity (KW)\"].values[j])\n",
    "\n",
    "#constraint prosumers\n",
    "constraints_prosumer={}\n",
    "for j in range(int(len(df[df[\"Hour\"]==hour])/2),int(len(df[df[\"Hour\"]==hour]))):\n",
    "    constraints_prosumer[f\"prosumer_ID_{j}\"] = {}\n",
    "    for i in range(int(len(df[df[\"Hour\"]==hour])/2)):\n",
    "        constraints_prosumer[f\"prosumer_ID_{j}\"][f\"x_{i}_{j}\"] = min(df.loc[df[\"Hour\"] == hour, \"Quantity (KW)\"].values[i],df.loc[df[\"Hour\"] == hour, \"Quantity (KW)\"].values[j])\n"
   ]
  },
  {
   "cell_type": "code",
   "execution_count": 88,
   "metadata": {},
   "outputs": [
    {
     "data": {
      "text/plain": [
       "{'consumer_ID_0': {'x_0_4': 5, 'x_0_5': 5, 'x_0_6': 5, 'x_0_7': 5},\n",
       " 'consumer_ID_1': {'x_1_4': 5, 'x_1_5': 5, 'x_1_6': 5, 'x_1_7': 5},\n",
       " 'consumer_ID_2': {'x_2_4': 2, 'x_2_5': 2, 'x_2_6': 2, 'x_2_7': 2},\n",
       " 'consumer_ID_3': {'x_3_4': 2, 'x_3_5': 2, 'x_3_6': 2, 'x_3_7': 2}}"
      ]
     },
     "execution_count": 88,
     "metadata": {},
     "output_type": "execute_result"
    }
   ],
   "source": [
    "#this is a dictinary\n",
    "constraints_consumer"
   ]
  },
  {
   "cell_type": "code",
   "execution_count": 89,
   "metadata": {},
   "outputs": [],
   "source": [
    "#adding consumer_constraints\n",
    "for i in range(int(len(df[df[\"Hour\"]==hour])/2)):\n",
    "    mod.linear_constraint(linear=constraints_consumer[f\"consumer_ID_{i}\"], sense=\"<=\", rhs=df.loc[df[\"Hour\"] == hour, \"Quantity (KW)\"].values[i], name=f\"cons_constraint_{i}\")\n",
    "\n",
    "#adding prosumer_constraints\n",
    "for j in range(int(len(df[df[\"Hour\"]==hour])/2),int(len(df[df[\"Hour\"]==hour]))):\n",
    "    mod.linear_constraint(linear=constraints_prosumer[f\"prosumer_ID_{j}\"], sense=\"<=\", rhs=df.loc[df[\"Hour\"] == hour, \"Quantity (KW)\"].values[j], name=f\"pros_constraint_{j}\")"
   ]
  },
  {
   "cell_type": "code",
   "execution_count": 90,
   "metadata": {},
   "outputs": [
    {
     "name": "stdout",
     "output_type": "stream",
     "text": [
      "Problem name: ET\n",
      "\n",
      "Maximize\n",
      "  -39*x_0_4 + 5*x_0_5 + x_0_6 - 15*x_0_7 - 35*x_1_4 + 9*x_1_5 + 5*x_1_6\n",
      "  - 11*x_1_7 - 61*x_2_4 + 5*x_2_5 - x_2_6 - 25*x_2_7 - 32*x_3_4 + 12*x_3_5\n",
      "  + 8*x_3_6 - 8*x_3_7\n",
      "\n",
      "Subject to\n",
      "  Linear constraints (8)\n",
      "    5*x_0_4 + 5*x_0_5 + 5*x_0_6 + 5*x_0_7 <= 5  'cons_constraint_0'\n",
      "    5*x_1_4 + 5*x_1_5 + 5*x_1_6 + 5*x_1_7 <= 5  'cons_constraint_1'\n",
      "    2*x_2_4 + 2*x_2_5 + 2*x_2_6 + 2*x_2_7 <= 2  'cons_constraint_2'\n",
      "    2*x_3_4 + 2*x_3_5 + 2*x_3_6 + 2*x_3_7 <= 2  'cons_constraint_3'\n",
      "    5*x_0_4 + 5*x_1_4 + 2*x_2_4 + 2*x_3_4 <= 7  'pros_constraint_4'\n",
      "    5*x_0_5 + 5*x_1_5 + 2*x_2_5 + 2*x_3_5 <= 9  'pros_constraint_5'\n",
      "    5*x_0_6 + 5*x_1_6 + 2*x_2_6 + 2*x_3_6 <= 6  'pros_constraint_6'\n",
      "    5*x_0_7 + 5*x_1_7 + 2*x_2_7 + 2*x_3_7 <= 7  'pros_constraint_7'\n",
      "\n",
      "  Binary variables (16)\n",
      "    x_0_4 x_0_5 x_0_6 x_0_7 x_1_4 x_1_5 x_1_6 x_1_7 x_2_4 x_2_5 x_2_6 x_2_7\n",
      "    x_3_4 x_3_5 x_3_6 x_3_7\n",
      "\n"
     ]
    }
   ],
   "source": [
    "print(mod.prettyprint())"
   ]
  },
  {
   "cell_type": "markdown",
   "metadata": {},
   "source": [
    "Let's convert the program to QUBO"
   ]
  },
  {
   "cell_type": "code",
   "execution_count": 91,
   "metadata": {},
   "outputs": [],
   "source": [
    "from qiskit_optimization.converters import QuadraticProgramToQubo\n",
    "\n",
    "conv = QuadraticProgramToQubo()\n",
    "mod_qubo = conv.convert(mod)"
   ]
  },
  {
   "cell_type": "code",
   "execution_count": 92,
   "metadata": {},
   "outputs": [
    {
     "name": "stdout",
     "output_type": "stream",
     "text": [
      "Problem name: ET\n",
      "\n",
      "Minimize\n",
      "  273*cons_constraint_0@int_slack@0^2\n",
      "  + 1092*cons_constraint_0@int_slack@0*cons_constraint_0@int_slack@1\n",
      "  + 1092*cons_constraint_0@int_slack@0*cons_constraint_0@int_slack@2\n",
      "  + 1092*cons_constraint_0@int_slack@1^2\n",
      "  + 2184*cons_constraint_0@int_slack@1*cons_constraint_0@int_slack@2\n",
      "  + 1092*cons_constraint_0@int_slack@2^2 + 273*cons_constraint_1@int_slack@0^2\n",
      "  + 1092*cons_constraint_1@int_slack@0*cons_constraint_1@int_slack@1\n",
      "  + 1092*cons_constraint_1@int_slack@0*cons_constraint_1@int_slack@2\n",
      "  + 1092*cons_constraint_1@int_slack@1^2\n",
      "  + 2184*cons_constraint_1@int_slack@1*cons_constraint_1@int_slack@2\n",
      "  + 1092*cons_constraint_1@int_slack@2^2 + 273*cons_constraint_2@int_slack@0^2\n",
      "  + 546*cons_constraint_2@int_slack@0*cons_constraint_2@int_slack@1\n",
      "  + 273*cons_constraint_2@int_slack@1^2 + 273*cons_constraint_3@int_slack@0^2\n",
      "  + 546*cons_constraint_3@int_slack@0*cons_constraint_3@int_slack@1\n",
      "  + 273*cons_constraint_3@int_slack@1^2 + 273*pros_constraint_4@int_slack@0^2\n",
      "  + 1092*pros_constraint_4@int_slack@0*pros_constraint_4@int_slack@1\n",
      "  + 2184*pros_constraint_4@int_slack@0*pros_constraint_4@int_slack@2\n",
      "  + 1092*pros_constraint_4@int_slack@1^2\n",
      "  + 4368*pros_constraint_4@int_slack@1*pros_constraint_4@int_slack@2\n",
      "  + 4368*pros_constraint_4@int_slack@2^2 + 273*pros_constraint_5@int_slack@0^2\n",
      "  + 1092*pros_constraint_5@int_slack@0*pros_constraint_5@int_slack@1\n",
      "  + 2184*pros_constraint_5@int_slack@0*pros_constraint_5@int_slack@2\n",
      "  + 1092*pros_constraint_5@int_slack@0*pros_constraint_5@int_slack@3\n",
      "  + 1092*pros_constraint_5@int_slack@1^2\n",
      "  + 4368*pros_constraint_5@int_slack@1*pros_constraint_5@int_slack@2\n",
      "  + 2184*pros_constraint_5@int_slack@1*pros_constraint_5@int_slack@3\n",
      "  + 4368*pros_constraint_5@int_slack@2^2\n",
      "  + 4368*pros_constraint_5@int_slack@2*pros_constraint_5@int_slack@3\n",
      "  + 1092*pros_constraint_5@int_slack@3^2 + 273*pros_constraint_6@int_slack@0^2\n",
      "  + 1092*pros_constraint_6@int_slack@0*pros_constraint_6@int_slack@1\n",
      "  + 1638*pros_constraint_6@int_slack@0*pros_constraint_6@int_slack@2\n",
      "  + 1092*pros_constraint_6@int_slack@1^2\n",
      "  + 3276*pros_constraint_6@int_slack@1*pros_constraint_6@int_slack@2\n",
      "  + 2457*pros_constraint_6@int_slack@2^2 + 273*pros_constraint_7@int_slack@0^2\n",
      "  + 1092*pros_constraint_7@int_slack@0*pros_constraint_7@int_slack@1\n",
      "  + 2184*pros_constraint_7@int_slack@0*pros_constraint_7@int_slack@2\n",
      "  + 1092*pros_constraint_7@int_slack@1^2\n",
      "  + 4368*pros_constraint_7@int_slack@1*pros_constraint_7@int_slack@2\n",
      "  + 4368*pros_constraint_7@int_slack@2^2\n",
      "  + 2730*x_0_4*cons_constraint_0@int_slack@0\n",
      "  + 5460*x_0_4*cons_constraint_0@int_slack@1\n",
      "  + 5460*x_0_4*cons_constraint_0@int_slack@2\n",
      "  + 2730*x_0_4*pros_constraint_4@int_slack@0\n",
      "  + 5460*x_0_4*pros_constraint_4@int_slack@1\n",
      "  + 10920*x_0_4*pros_constraint_4@int_slack@2 + 13650*x_0_4^2\n",
      "  + 13650*x_0_4*x_0_5 + 13650*x_0_4*x_0_6 + 13650*x_0_4*x_0_7\n",
      "  + 13650*x_0_4*x_1_4 + 5460*x_0_4*x_2_4 + 5460*x_0_4*x_3_4\n",
      "  + 2730*x_0_5*cons_constraint_0@int_slack@0\n",
      "  + 5460*x_0_5*cons_constraint_0@int_slack@1\n",
      "  + 5460*x_0_5*cons_constraint_0@int_slack@2\n",
      "  + 2730*x_0_5*pros_constraint_5@int_slack@0\n",
      "  + 5460*x_0_5*pros_constraint_5@int_slack@1\n",
      "  + 10920*x_0_5*pros_constraint_5@int_slack@2\n",
      "  + 5460*x_0_5*pros_constraint_5@int_slack@3 + 13650*x_0_5^2 + 13650*x_0_5*x_0_6\n",
      "  + 13650*x_0_5*x_0_7 + 13650*x_0_5*x_1_5 + 5460*x_0_5*x_2_5 + 5460*x_0_5*x_3_5\n",
      "  + 2730*x_0_6*cons_constraint_0@int_slack@0\n",
      "  + 5460*x_0_6*cons_constraint_0@int_slack@1\n",
      "  + 5460*x_0_6*cons_constraint_0@int_slack@2\n",
      "  + 2730*x_0_6*pros_constraint_6@int_slack@0\n",
      "  + 5460*x_0_6*pros_constraint_6@int_slack@1\n",
      "  + 8190*x_0_6*pros_constraint_6@int_slack@2 + 13650*x_0_6^2 + 13650*x_0_6*x_0_7\n",
      "  + 13650*x_0_6*x_1_6 + 5460*x_0_6*x_2_6 + 5460*x_0_6*x_3_6\n",
      "  + 2730*x_0_7*cons_constraint_0@int_slack@0\n",
      "  + 5460*x_0_7*cons_constraint_0@int_slack@1\n",
      "  + 5460*x_0_7*cons_constraint_0@int_slack@2\n",
      "  + 2730*x_0_7*pros_constraint_7@int_slack@0\n",
      "  + 5460*x_0_7*pros_constraint_7@int_slack@1\n",
      "  + 10920*x_0_7*pros_constraint_7@int_slack@2 + 13650*x_0_7^2\n",
      "  + 13650*x_0_7*x_1_7 + 5460*x_0_7*x_2_7 + 5460*x_0_7*x_3_7\n",
      "  + 2730*x_1_4*cons_constraint_1@int_slack@0\n",
      "  + 5460*x_1_4*cons_constraint_1@int_slack@1\n",
      "  + 5460*x_1_4*cons_constraint_1@int_slack@2\n",
      "  + 2730*x_1_4*pros_constraint_4@int_slack@0\n",
      "  + 5460*x_1_4*pros_constraint_4@int_slack@1\n",
      "  + 10920*x_1_4*pros_constraint_4@int_slack@2 + 13650*x_1_4^2\n",
      "  + 13650*x_1_4*x_1_5 + 13650*x_1_4*x_1_6 + 13650*x_1_4*x_1_7 + 5460*x_1_4*x_2_4\n",
      "  + 5460*x_1_4*x_3_4 + 2730*x_1_5*cons_constraint_1@int_slack@0\n",
      "  + 5460*x_1_5*cons_constraint_1@int_slack@1\n",
      "  + 5460*x_1_5*cons_constraint_1@int_slack@2\n",
      "  + 2730*x_1_5*pros_constraint_5@int_slack@0\n",
      "  + 5460*x_1_5*pros_constraint_5@int_slack@1\n",
      "  + 10920*x_1_5*pros_constraint_5@int_slack@2\n",
      "  + 5460*x_1_5*pros_constraint_5@int_slack@3 + 13650*x_1_5^2 + 13650*x_1_5*x_1_6\n",
      "  + 13650*x_1_5*x_1_7 + 5460*x_1_5*x_2_5 + 5460*x_1_5*x_3_5\n",
      "  + 2730*x_1_6*cons_constraint_1@int_slack@0\n",
      "  + 5460*x_1_6*cons_constraint_1@int_slack@1\n",
      "  + 5460*x_1_6*cons_constraint_1@int_slack@2\n",
      "  + 2730*x_1_6*pros_constraint_6@int_slack@0\n",
      "  + 5460*x_1_6*pros_constraint_6@int_slack@1\n",
      "  + 8190*x_1_6*pros_constraint_6@int_slack@2 + 13650*x_1_6^2 + 13650*x_1_6*x_1_7\n",
      "  + 5460*x_1_6*x_2_6 + 5460*x_1_6*x_3_6\n",
      "  + 2730*x_1_7*cons_constraint_1@int_slack@0\n",
      "  + 5460*x_1_7*cons_constraint_1@int_slack@1\n",
      "  + 5460*x_1_7*cons_constraint_1@int_slack@2\n",
      "  + 2730*x_1_7*pros_constraint_7@int_slack@0\n",
      "  + 5460*x_1_7*pros_constraint_7@int_slack@1\n",
      "  + 10920*x_1_7*pros_constraint_7@int_slack@2 + 13650*x_1_7^2 + 5460*x_1_7*x_2_7\n",
      "  + 5460*x_1_7*x_3_7 + 1092*x_2_4*cons_constraint_2@int_slack@0\n",
      "  + 1092*x_2_4*cons_constraint_2@int_slack@1\n",
      "  + 1092*x_2_4*pros_constraint_4@int_slack@0\n",
      "  + 2184*x_2_4*pros_constraint_4@int_slack@1\n",
      "  + 4368*x_2_4*pros_constraint_4@int_slack@2 + 2184*x_2_4^2 + 2184*x_2_4*x_2_5\n",
      "  + 2184*x_2_4*x_2_6 + 2184*x_2_4*x_2_7 + 2184*x_2_4*x_3_4\n",
      "  + 1092*x_2_5*cons_constraint_2@int_slack@0\n",
      "  + 1092*x_2_5*cons_constraint_2@int_slack@1\n",
      "  + 1092*x_2_5*pros_constraint_5@int_slack@0\n",
      "  + 2184*x_2_5*pros_constraint_5@int_slack@1\n",
      "  + 4368*x_2_5*pros_constraint_5@int_slack@2\n",
      "  + 2184*x_2_5*pros_constraint_5@int_slack@3 + 2184*x_2_5^2 + 2184*x_2_5*x_2_6\n",
      "  + 2184*x_2_5*x_2_7 + 2184*x_2_5*x_3_5\n",
      "  + 1092*x_2_6*cons_constraint_2@int_slack@0\n",
      "  + 1092*x_2_6*cons_constraint_2@int_slack@1\n",
      "  + 1092*x_2_6*pros_constraint_6@int_slack@0\n",
      "  + 2184*x_2_6*pros_constraint_6@int_slack@1\n",
      "  + 3276*x_2_6*pros_constraint_6@int_slack@2 + 2184*x_2_6^2 + 2184*x_2_6*x_2_7\n",
      "  + 2184*x_2_6*x_3_6 + 1092*x_2_7*cons_constraint_2@int_slack@0\n",
      "  + 1092*x_2_7*cons_constraint_2@int_slack@1\n",
      "  + 1092*x_2_7*pros_constraint_7@int_slack@0\n",
      "  + 2184*x_2_7*pros_constraint_7@int_slack@1\n",
      "  + 4368*x_2_7*pros_constraint_7@int_slack@2 + 2184*x_2_7^2 + 2184*x_2_7*x_3_7\n",
      "  + 1092*x_3_4*cons_constraint_3@int_slack@0\n",
      "  + 1092*x_3_4*cons_constraint_3@int_slack@1\n",
      "  + 1092*x_3_4*pros_constraint_4@int_slack@0\n",
      "  + 2184*x_3_4*pros_constraint_4@int_slack@1\n",
      "  + 4368*x_3_4*pros_constraint_4@int_slack@2 + 2184*x_3_4^2 + 2184*x_3_4*x_3_5\n",
      "  + 2184*x_3_4*x_3_6 + 2184*x_3_4*x_3_7\n",
      "  + 1092*x_3_5*cons_constraint_3@int_slack@0\n",
      "  + 1092*x_3_5*cons_constraint_3@int_slack@1\n",
      "  + 1092*x_3_5*pros_constraint_5@int_slack@0\n",
      "  + 2184*x_3_5*pros_constraint_5@int_slack@1\n",
      "  + 4368*x_3_5*pros_constraint_5@int_slack@2\n",
      "  + 2184*x_3_5*pros_constraint_5@int_slack@3 + 2184*x_3_5^2 + 2184*x_3_5*x_3_6\n",
      "  + 2184*x_3_5*x_3_7 + 1092*x_3_6*cons_constraint_3@int_slack@0\n",
      "  + 1092*x_3_6*cons_constraint_3@int_slack@1\n",
      "  + 1092*x_3_6*pros_constraint_6@int_slack@0\n",
      "  + 2184*x_3_6*pros_constraint_6@int_slack@1\n",
      "  + 3276*x_3_6*pros_constraint_6@int_slack@2 + 2184*x_3_6^2 + 2184*x_3_6*x_3_7\n",
      "  + 1092*x_3_7*cons_constraint_3@int_slack@0\n",
      "  + 1092*x_3_7*cons_constraint_3@int_slack@1\n",
      "  + 1092*x_3_7*pros_constraint_7@int_slack@0\n",
      "  + 2184*x_3_7*pros_constraint_7@int_slack@1\n",
      "  + 4368*x_3_7*pros_constraint_7@int_slack@2 + 2184*x_3_7^2\n",
      "  - 2730*cons_constraint_0@int_slack@0 - 5460*cons_constraint_0@int_slack@1\n",
      "  - 5460*cons_constraint_0@int_slack@2 - 2730*cons_constraint_1@int_slack@0\n",
      "  - 5460*cons_constraint_1@int_slack@1 - 5460*cons_constraint_1@int_slack@2\n",
      "  - 1092*cons_constraint_2@int_slack@0 - 1092*cons_constraint_2@int_slack@1\n",
      "  - 1092*cons_constraint_3@int_slack@0 - 1092*cons_constraint_3@int_slack@1\n",
      "  - 3822*pros_constraint_4@int_slack@0 - 7644*pros_constraint_4@int_slack@1\n",
      "  - 15288*pros_constraint_4@int_slack@2 - 4914*pros_constraint_5@int_slack@0\n",
      "  - 9828*pros_constraint_5@int_slack@1 - 19656*pros_constraint_5@int_slack@2\n",
      "  - 9828*pros_constraint_5@int_slack@3 - 3276*pros_constraint_6@int_slack@0\n",
      "  - 6552*pros_constraint_6@int_slack@1 - 9828*pros_constraint_6@int_slack@2\n",
      "  - 3822*pros_constraint_7@int_slack@0 - 7644*pros_constraint_7@int_slack@1\n",
      "  - 15288*pros_constraint_7@int_slack@2 - 32721*x_0_4 - 38225*x_0_5\n",
      "  - 30031*x_0_6 - 32745*x_0_7 - 32725*x_1_4 - 38229*x_1_5 - 30035*x_1_6\n",
      "  - 32749*x_1_7 - 9767*x_2_4 - 12017*x_2_5 - 8735*x_2_6 - 9803*x_2_7\n",
      "  - 9796*x_3_4 - 12024*x_3_5 - 8744*x_3_6 - 9820*x_3_7 + 74529\n",
      "\n",
      "Subject to\n",
      "  No constraints\n",
      "\n",
      "  Binary variables (39)\n",
      "    x_0_4 x_0_5 x_0_6 x_0_7 x_1_4 x_1_5 x_1_6 x_1_7 x_2_4 x_2_5 x_2_6 x_2_7\n",
      "    x_3_4 x_3_5 x_3_6 x_3_7 cons_constraint_0@int_slack@0\n",
      "    cons_constraint_0@int_slack@1 cons_constraint_0@int_slack@2\n",
      "    cons_constraint_1@int_slack@0 cons_constraint_1@int_slack@1\n",
      "    cons_constraint_1@int_slack@2 cons_constraint_2@int_slack@0\n",
      "    cons_constraint_2@int_slack@1 cons_constraint_3@int_slack@0\n",
      "    cons_constraint_3@int_slack@1 pros_constraint_4@int_slack@0\n",
      "    pros_constraint_4@int_slack@1 pros_constraint_4@int_slack@2\n",
      "    pros_constraint_5@int_slack@0 pros_constraint_5@int_slack@1\n",
      "    pros_constraint_5@int_slack@2 pros_constraint_5@int_slack@3\n",
      "    pros_constraint_6@int_slack@0 pros_constraint_6@int_slack@1\n",
      "    pros_constraint_6@int_slack@2 pros_constraint_7@int_slack@0\n",
      "    pros_constraint_7@int_slack@1 pros_constraint_7@int_slack@2\n",
      "\n"
     ]
    }
   ],
   "source": [
    "print(mod_qubo.prettyprint())"
   ]
  },
  {
   "cell_type": "markdown",
   "metadata": {},
   "source": [
    "The QUBO matrix has the following form."
   ]
  },
  {
   "cell_type": "code",
   "execution_count": 93,
   "metadata": {},
   "outputs": [
    {
     "name": "stdout",
     "output_type": "stream",
     "text": [
      "Dimension: (39, 39)\n"
     ]
    }
   ],
   "source": [
    "A_tilde = mod_qubo.objective.quadratic.to_array()\n",
    "print(f\"Dimension: {A_tilde.shape}\")"
   ]
  },
  {
   "cell_type": "code",
   "execution_count": 94,
   "metadata": {},
   "outputs": [
    {
     "data": {
      "text/plain": [
       "<matplotlib.lines.Line2D at 0x2088381f040>"
      ]
     },
     "execution_count": 94,
     "metadata": {},
     "output_type": "execute_result"
    },
    {
     "data": {
      "image/png": "[encoded data removed]",
      "text/plain": [
       "<Figure size 640x480 with 1 Axes>"
      ]
     },
     "metadata": {},
     "output_type": "display_data"
    }
   ],
   "source": [
    "import matplotlib.pyplot as plt\n",
    "fig = plt.figure()\n",
    "ax = fig.add_subplot(1, 1, 1)\n",
    "ax.spy(A_tilde, markersize=3)"
   ]
  },
  {
   "cell_type": "code",
   "execution_count": 95,
   "metadata": {},
   "outputs": [],
   "source": [
    "from qiskit_optimization.algorithms import CplexOptimizer"
   ]
  },
  {
   "cell_type": "code",
   "execution_count": 96,
   "metadata": {},
   "outputs": [],
   "source": [
    "cplex_optimizer = CplexOptimizer()\n",
    "qubo_minimization_result = cplex_optimizer.solve(mod_qubo)"
   ]
  },
  {
   "cell_type": "code",
   "execution_count": 97,
   "metadata": {},
   "outputs": [
    {
     "name": "stdout",
     "output_type": "stream",
     "text": [
      "minimum point (binary): b_min =  [0. 1. 0. 0. 0. 0. 1. 0. 0. 1. 0. 0. 0. 1. 0. 0. 0. 0. 0. 0. 0. 0. 0. 0.\n",
      " 0. 0. 1. 1. 1. 0. 0. 0. 0. 1. 0. 0. 1. 1. 1.]\n",
      "minimum value: f_3(b_min) =  -27.0\n"
     ]
    }
   ],
   "source": [
    "print(\"minimum point (binary): b_min = \", qubo_minimization_result.x)\n",
    "print(\"minimum value: f_3(b_min) = \", qubo_minimization_result.fval)"
   ]
  },
  {
   "cell_type": "code",
   "execution_count": 98,
   "metadata": {},
   "outputs": [
    {
     "name": "stdout",
     "output_type": "stream",
     "text": [
      "minimum point (integer): p_min =  [0. 1. 0. 0. 0. 0. 1. 0. 0. 1. 0. 0. 0. 1. 0. 0.]\n"
     ]
    }
   ],
   "source": [
    "b_min = qubo_minimization_result.x\n",
    "p_min = conv.interpret(b_min)\n",
    "print(\"minimum point (integer): p_min = \", p_min)"
   ]
  },
  {
   "cell_type": "code",
   "execution_count": 99,
   "metadata": {},
   "outputs": [
    {
     "name": "stdout",
     "output_type": "stream",
     "text": [
      "Problem name: ET\n",
      "\n",
      "Maximize\n",
      "  -39*x_0_4 + 5*x_0_5 + x_0_6 - 15*x_0_7 - 35*x_1_4 + 9*x_1_5 + 5*x_1_6\n",
      "  - 11*x_1_7 - 61*x_2_4 + 5*x_2_5 - x_2_6 - 25*x_2_7 - 32*x_3_4 + 12*x_3_5\n",
      "  + 8*x_3_6 - 8*x_3_7\n",
      "\n",
      "Subject to\n",
      "  Linear constraints (8)\n",
      "    5*x_0_4 + 5*x_0_5 + 5*x_0_6 + 5*x_0_7 <= 5  'cons_constraint_0'\n",
      "    5*x_1_4 + 5*x_1_5 + 5*x_1_6 + 5*x_1_7 <= 5  'cons_constraint_1'\n",
      "    2*x_2_4 + 2*x_2_5 + 2*x_2_6 + 2*x_2_7 <= 2  'cons_constraint_2'\n",
      "    2*x_3_4 + 2*x_3_5 + 2*x_3_6 + 2*x_3_7 <= 2  'cons_constraint_3'\n",
      "    5*x_0_4 + 5*x_1_4 + 2*x_2_4 + 2*x_3_4 <= 7  'pros_constraint_4'\n",
      "    5*x_0_5 + 5*x_1_5 + 2*x_2_5 + 2*x_3_5 <= 9  'pros_constraint_5'\n",
      "    5*x_0_6 + 5*x_1_6 + 2*x_2_6 + 2*x_3_6 <= 6  'pros_constraint_6'\n",
      "    5*x_0_7 + 5*x_1_7 + 2*x_2_7 + 2*x_3_7 <= 7  'pros_constraint_7'\n",
      "\n",
      "  Binary variables (16)\n",
      "    x_0_4 x_0_5 x_0_6 x_0_7 x_1_4 x_1_5 x_1_6 x_1_7 x_2_4 x_2_5 x_2_6 x_2_7\n",
      "    x_3_4 x_3_5 x_3_6 x_3_7\n",
      "\n"
     ]
    }
   ],
   "source": [
    "print(mod.prettyprint())"
   ]
  },
  {
   "cell_type": "code",
   "execution_count": 102,
   "metadata": {},
   "outputs": [
    {
     "data": {
      "text/html": [
       "<div>\n",
       "<style scoped>\n",
       "    .dataframe tbody tr th:only-of-type {\n",
       "        vertical-align: middle;\n",
       "    }\n",
       "\n",
       "    .dataframe tbody tr th {\n",
       "        vertical-align: top;\n",
       "    }\n",
       "\n",
       "    .dataframe thead th {\n",
       "        text-align: right;\n",
       "    }\n",
       "</style>\n",
       "<table border=\"1\" class=\"dataframe\">\n",
       "  <thead>\n",
       "    <tr style=\"text-align: right;\">\n",
       "      <th></th>\n",
       "      <th>Hour</th>\n",
       "      <th>Participant</th>\n",
       "      <th>Type</th>\n",
       "      <th>Price (cents/KWh)</th>\n",
       "      <th>Quantity (KW)</th>\n",
       "    </tr>\n",
       "  </thead>\n",
       "  <tbody>\n",
       "    <tr>\n",
       "      <th>4</th>\n",
       "      <td>1</td>\n",
       "      <td>0</td>\n",
       "      <td>Bid</td>\n",
       "      <td>23</td>\n",
       "      <td>5</td>\n",
       "    </tr>\n",
       "    <tr>\n",
       "      <th>5</th>\n",
       "      <td>1</td>\n",
       "      <td>1</td>\n",
       "      <td>Bid</td>\n",
       "      <td>27</td>\n",
       "      <td>5</td>\n",
       "    </tr>\n",
       "    <tr>\n",
       "      <th>6</th>\n",
       "      <td>1</td>\n",
       "      <td>2</td>\n",
       "      <td>Bid</td>\n",
       "      <td>32</td>\n",
       "      <td>2</td>\n",
       "    </tr>\n",
       "    <tr>\n",
       "      <th>7</th>\n",
       "      <td>1</td>\n",
       "      <td>3</td>\n",
       "      <td>Bid</td>\n",
       "      <td>30</td>\n",
       "      <td>2</td>\n",
       "    </tr>\n",
       "    <tr>\n",
       "      <th>8</th>\n",
       "      <td>1</td>\n",
       "      <td>4</td>\n",
       "      <td>Ask</td>\n",
       "      <td>31</td>\n",
       "      <td>7</td>\n",
       "    </tr>\n",
       "    <tr>\n",
       "      <th>9</th>\n",
       "      <td>1</td>\n",
       "      <td>5</td>\n",
       "      <td>Ask</td>\n",
       "      <td>9</td>\n",
       "      <td>9</td>\n",
       "    </tr>\n",
       "    <tr>\n",
       "      <th>10</th>\n",
       "      <td>1</td>\n",
       "      <td>6</td>\n",
       "      <td>Ask</td>\n",
       "      <td>11</td>\n",
       "      <td>6</td>\n",
       "    </tr>\n",
       "    <tr>\n",
       "      <th>11</th>\n",
       "      <td>1</td>\n",
       "      <td>7</td>\n",
       "      <td>Ask</td>\n",
       "      <td>19</td>\n",
       "      <td>7</td>\n",
       "    </tr>\n",
       "  </tbody>\n",
       "</table>\n",
       "</div>"
      ],
      "text/plain": [
       "   Hour Participant Type Price (cents/KWh) Quantity (KW)\n",
       "4     1           0  Bid                23             5\n",
       "5     1           1  Bid                27             5\n",
       "6     1           2  Bid                32             2\n",
       "7     1           3  Bid                30             2\n",
       "8     1           4  Ask                31             7\n",
       "9     1           5  Ask                 9             9\n",
       "10    1           6  Ask                11             6\n",
       "11    1           7  Ask                19             7"
      ]
     },
     "execution_count": 102,
     "metadata": {},
     "output_type": "execute_result"
    }
   ],
   "source": [
    "df[df[\"Hour\"]==1]"
   ]
  },
  {
   "cell_type": "code",
   "execution_count": null,
   "metadata": {},
   "outputs": [],
   "source": [
    "[0. 1. 0. 0. 0. 0. 1. 0. 0. 1. 0. 0. 0. 1. 0. 0.]"
   ]
  },
  {
   "cell_type": "markdown",
   "metadata": {},
   "source": [
    "## QAOA"
   ]
  },
  {
   "cell_type": "code",
   "execution_count": 103,
   "metadata": {},
   "outputs": [],
   "source": [
    "from qiskit.circuit.library import QAOAAnsatz"
   ]
  },
  {
   "cell_type": "code",
   "execution_count": null,
   "metadata": {},
   "outputs": [],
   "source": []
  }
 ],
 "metadata": {
  "kernelspec": {
   "display_name": "base",
   "language": "python",
   "name": "python3"
  },
  "language_info": {
   "codemirror_mode": {
    "name": "ipython",
    "version": 3
   },
   "file_extension": ".py",
   "mimetype": "text/x-python",
   "name": "python",
   "nbconvert_exporter": "python",
   "pygments_lexer": "ipython3",
   "version": "3.9.13"
  }
 },
 "nbformat": 4,
 "nbformat_minor": 2
}
