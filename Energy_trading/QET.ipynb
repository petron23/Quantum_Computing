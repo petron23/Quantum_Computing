{
 "cells": [
  {
   "cell_type": "code",
   "execution_count": 2,
   "metadata": {},
   "outputs": [],
   "source": [
    "import numpy as np\n",
    "import pandas as pd\n",
    "import matplotlib.pyplot as plt\n",
    "from scipy.stats import norm\n",
    "from qiskit_optimization import QuadraticProgram"
   ]
  },
  {
   "cell_type": "markdown",
   "metadata": {},
   "source": [
    "# Creating synthetic data for P2P energy training"
   ]
  },
  {
   "cell_type": "code",
   "execution_count": 47,
   "metadata": {},
   "outputs": [
    {
     "name": "stdout",
     "output_type": "stream",
     "text": [
      "hour:0 6.0\n",
      "hour:1 8.0\n",
      "hour:2 16.0\n",
      "hour:3 22.0\n",
      "hour:4 36.0\n",
      "hour:5 46.0\n",
      "hour:6 62.0\n",
      "hour:7 78.0\n",
      "hour:8 96.0\n",
      "hour:9 108.0\n",
      "hour:10 122.0\n",
      "hour:11 120.0\n",
      "hour:12 122.0\n",
      "hour:13 122.0\n",
      "hour:14 112.0\n",
      "hour:15 94.0\n",
      "hour:16 74.0\n",
      "hour:17 58.0\n",
      "hour:18 50.0\n",
      "hour:19 34.0\n",
      "hour:20 22.0\n",
      "hour:21 18.0\n",
      "hour:22 8.0\n",
      "hour:23 6.0\n"
     ]
    }
   ],
   "source": [
    "samples = np.random.normal(loc=11.5, scale=4.7, size=15000)\n",
    "\n",
    "hours = np.arange(24)\n",
    "min_value = 10\n",
    "max_value = 123\n",
    "\n",
    "participants_dict_per_hourdict={}\n",
    "for hour in hours:\n",
    "    participants_dict_per_hourdict[f\"{hour}\"] = 0\n",
    "    for sample in samples:\n",
    "        if np.abs(sample - hour)<.5:\n",
    "              participants_dict_per_hourdict[f\"{hour}\"]+=1 \n",
    "participants_by_hour = np.asarray(list(participants_dict_per_hourdict.values()))\n",
    "participants_by_hour = participants_by_hour/np.max(participants_by_hour) * max_value\n",
    "\n",
    "#either we set the values below min_value to min_value or throw it a away\n",
    "#participants_by_hour[participants_by_hour<min_value] = 0\n",
    "#participants_by_hour = np.clip(participants_by_hour/np.max(participants_by_hour) * max_value, a_min=min_value, a_max=max_value)\n",
    "\n",
    "columns = ['Hour', 'Participant', 'Type', 'Price (cents/KWh)', 'Quantity (KW)']\n",
    "df = pd.DataFrame(columns=columns)\n",
    "\n",
    "# Generate bids and asks for each hour\n",
    "for hour in hours:\n",
    "    #print(hour)\n",
    "    participants_by_hour[hour]=int(participants_by_hour[hour])\n",
    "    if participants_by_hour[hour]%2!=0:\n",
    "        participants_by_hour[hour]-=1\n",
    "    print(f\"hour:{hour}\",participants_by_hour[hour])\n",
    "    num_prosumers = int(participants_by_hour[hour]/2)\n",
    "    num_consumers = int(participants_by_hour[hour] - num_prosumers)\n",
    "\n",
    "\n",
    "    if participants_by_hour[hour] > 0:\n",
    "    # Generate prosumer bids\n",
    "        prosumer_bids = pd.DataFrame({\n",
    "            'Hour': hour,\n",
    "            'Participant': np.arange(num_prosumers),\n",
    "            'Type': 'Bid',\n",
    "            'Price (cents/KWh)': np.random.randint(8, 33, size=num_prosumers),\n",
    "            'Quantity (KW)': np.random.randint(1, 6, size=num_prosumers)\n",
    "        })\n",
    "\n",
    "    # Generate consumer asks\n",
    "        consumer_asks = pd.DataFrame({\n",
    "            'Hour': hour,\n",
    "            'Participant': np.arange(num_prosumers, num_prosumers + num_consumers),\n",
    "            'Type': 'Ask',\n",
    "            'Price (cents/KWh)': np.random.randint(8, 33, size=num_consumers),\n",
    "            'Quantity (KW)': np.random.randint(5, 11, size=num_consumers)\n",
    "        })\n",
    "    else:\n",
    "        # Generate prosumer bids\n",
    "        prosumer_bids = pd.DataFrame({\n",
    "            'Hour': hour,\n",
    "            'Participant': [None],\n",
    "            'Type': 'Bid',\n",
    "            'Price (cents/KWh)': 0,\n",
    "            'Quantity (KW)': 0\n",
    "        })\n",
    "\n",
    "    # Generate consumer asks\n",
    "        consumer_asks = pd.DataFrame({\n",
    "            'Hour': hour,\n",
    "            'Participant': [None],\n",
    "            'Type': 'Ask',\n",
    "            'Price (cents/KWh)': 0,\n",
    "            'Quantity (KW)': 0\n",
    "        })\n",
    "    \n",
    "\n",
    "    # Concatenate prosumer bids and consumer asks\n",
    "    hour_data = pd.concat([prosumer_bids, consumer_asks], ignore_index=True)\n",
    "\n",
    "    # Add the generated data to the main DataFrame\n",
    "    df = pd.concat([df, hour_data], ignore_index=True)\n",
    "\n",
    "    df[\"Participant\"]\n",
    "# Sort the DataFrame based on hour and participant\n",
    "df.sort_values(by=['Hour', 'Participant'], inplace=True, ignore_index=True)"
   ]
  },
  {
   "cell_type": "code",
   "execution_count": 48,
   "metadata": {},
   "outputs": [
    {
     "data": {
      "text/html": [
       "<div>\n",
       "<style scoped>\n",
       "    .dataframe tbody tr th:only-of-type {\n",
       "        vertical-align: middle;\n",
       "    }\n",
       "\n",
       "    .dataframe tbody tr th {\n",
       "        vertical-align: top;\n",
       "    }\n",
       "\n",
       "    .dataframe thead th {\n",
       "        text-align: right;\n",
       "    }\n",
       "</style>\n",
       "<table border=\"1\" class=\"dataframe\">\n",
       "  <thead>\n",
       "    <tr style=\"text-align: right;\">\n",
       "      <th></th>\n",
       "      <th>Hour</th>\n",
       "      <th>Participant</th>\n",
       "      <th>Type</th>\n",
       "      <th>Price (cents/KWh)</th>\n",
       "      <th>Quantity (KW)</th>\n",
       "    </tr>\n",
       "  </thead>\n",
       "  <tbody>\n",
       "    <tr>\n",
       "      <th>0</th>\n",
       "      <td>0</td>\n",
       "      <td>0</td>\n",
       "      <td>Bid</td>\n",
       "      <td>28</td>\n",
       "      <td>1</td>\n",
       "    </tr>\n",
       "    <tr>\n",
       "      <th>1</th>\n",
       "      <td>0</td>\n",
       "      <td>1</td>\n",
       "      <td>Bid</td>\n",
       "      <td>31</td>\n",
       "      <td>1</td>\n",
       "    </tr>\n",
       "    <tr>\n",
       "      <th>2</th>\n",
       "      <td>0</td>\n",
       "      <td>2</td>\n",
       "      <td>Bid</td>\n",
       "      <td>25</td>\n",
       "      <td>4</td>\n",
       "    </tr>\n",
       "    <tr>\n",
       "      <th>3</th>\n",
       "      <td>0</td>\n",
       "      <td>3</td>\n",
       "      <td>Ask</td>\n",
       "      <td>17</td>\n",
       "      <td>6</td>\n",
       "    </tr>\n",
       "    <tr>\n",
       "      <th>4</th>\n",
       "      <td>0</td>\n",
       "      <td>4</td>\n",
       "      <td>Ask</td>\n",
       "      <td>26</td>\n",
       "      <td>7</td>\n",
       "    </tr>\n",
       "    <tr>\n",
       "      <th>5</th>\n",
       "      <td>0</td>\n",
       "      <td>5</td>\n",
       "      <td>Ask</td>\n",
       "      <td>20</td>\n",
       "      <td>9</td>\n",
       "    </tr>\n",
       "  </tbody>\n",
       "</table>\n",
       "</div>"
      ],
      "text/plain": [
       "  Hour Participant Type Price (cents/KWh) Quantity (KW)\n",
       "0    0           0  Bid                28             1\n",
       "1    0           1  Bid                31             1\n",
       "2    0           2  Bid                25             4\n",
       "3    0           3  Ask                17             6\n",
       "4    0           4  Ask                26             7\n",
       "5    0           5  Ask                20             9"
      ]
     },
     "execution_count": 48,
     "metadata": {},
     "output_type": "execute_result"
    }
   ],
   "source": [
    "df[df[\"Hour\"]==0]"
   ]
  },
  {
   "cell_type": "code",
   "execution_count": 49,
   "metadata": {},
   "outputs": [],
   "source": [
    "df_length_per_hour = df.groupby('Hour').size()"
   ]
  },
  {
   "cell_type": "code",
   "execution_count": 50,
   "metadata": {},
   "outputs": [
    {
     "data": {
      "text/plain": [
       "[<matplotlib.lines.Line2D at 0x20882318790>]"
      ]
     },
     "execution_count": 50,
     "metadata": {},
     "output_type": "execute_result"
    },
    {
     "data": {
      "image/png": "[encoded data removed]",
      "text/plain": [
       "<Figure size 640x480 with 1 Axes>"
      ]
     },
     "metadata": {},
     "output_type": "display_data"
    }
   ],
   "source": [
    "#comparing to exact distribution\n",
    "#also cutting the cases when participants are below 10\n",
    "x = np.linspace(0,23,24)\n",
    "\n",
    "df_length_per_hour = df.groupby('Hour').size()\n",
    "#df_length_per_hour[df_length_per_hour<10] = 0\n",
    "plt.bar(df_length_per_hour.index, df_length_per_hour.values, color='blue', alpha=0.7,edgecolor='black')\n",
    "plt.plot(hours,123* norm.pdf(x, loc = 11.5, scale = 4.7)/max(norm.pdf(x, loc = 11.5, scale = 4.7)),\n",
    "       'r-', lw=5, alpha=0.6, label='norm pdf')"
   ]
  },
  {
   "cell_type": "markdown",
   "metadata": {},
   "source": [
    "# Creating QUBO"
   ]
  },
  {
   "cell_type": "markdown",
   "metadata": {},
   "source": [
    "The cost function in the original formulation"
   ]
  },
  {
   "cell_type": "markdown",
   "metadata": {},
   "source": [
    "$\\max\\limits_{x_{ij}} \\sum\\limits_{i=1}^{C}\\sum\\limits_{j=1}^{P} x_{ij}(p_i-p_j){\\text{min}}\\{Q_i,Q_j\\}$"
   ]
  },
  {
   "cell_type": "markdown",
   "metadata": {},
   "source": [
    "Subject to\n",
    "\n",
    "$\\sum\\limits_{i}^C x_{ij}{\\text{min}}\\{Q_i,Q_j\\}\\leq Q_j$\n",
    "\n",
    "\n",
    "$\\sum\\limits_{j}^P x_{ij}{\\text{min}}\\{Q_i,Q_j\\}\\leq Q_i$"
   ]
  },
  {
   "cell_type": "code",
   "execution_count": 58,
   "metadata": {},
   "outputs": [
    {
     "name": "stdout",
     "output_type": "stream",
     "text": [
      "Problem name: ET\n",
      "\n",
      "Minimize\n",
      "  0\n",
      "\n",
      "Subject to\n",
      "  No constraints\n",
      "\n",
      "  No variables\n",
      "\n"
     ]
    }
   ],
   "source": [
    "#creating the Quadratic program\n",
    "mod = QuadraticProgram(\"ET\")\n",
    "print(mod.prettyprint())"
   ]
  },
  {
   "cell_type": "markdown",
   "metadata": {},
   "source": [
    "As of yet we are going to fill this up with the bids and asks from a given time interval, e.g. 2."
   ]
  },
  {
   "cell_type": "code",
   "execution_count": 59,
   "metadata": {},
   "outputs": [
    {
     "data": {
      "text/html": [
       "<div>\n",
       "<style scoped>\n",
       "    .dataframe tbody tr th:only-of-type {\n",
       "        vertical-align: middle;\n",
       "    }\n",
       "\n",
       "    .dataframe tbody tr th {\n",
       "        vertical-align: top;\n",
       "    }\n",
       "\n",
       "    .dataframe thead th {\n",
       "        text-align: right;\n",
       "    }\n",
       "</style>\n",
       "<table border=\"1\" class=\"dataframe\">\n",
       "  <thead>\n",
       "    <tr style=\"text-align: right;\">\n",
       "      <th></th>\n",
       "      <th>Hour</th>\n",
       "      <th>Participant</th>\n",
       "      <th>Type</th>\n",
       "      <th>Price (cents/KWh)</th>\n",
       "      <th>Quantity (KW)</th>\n",
       "    </tr>\n",
       "  </thead>\n",
       "  <tbody>\n",
       "    <tr>\n",
       "      <th>0</th>\n",
       "      <td>0</td>\n",
       "      <td>0</td>\n",
       "      <td>Bid</td>\n",
       "      <td>28</td>\n",
       "      <td>1</td>\n",
       "    </tr>\n",
       "    <tr>\n",
       "      <th>1</th>\n",
       "      <td>0</td>\n",
       "      <td>1</td>\n",
       "      <td>Bid</td>\n",
       "      <td>31</td>\n",
       "      <td>1</td>\n",
       "    </tr>\n",
       "    <tr>\n",
       "      <th>2</th>\n",
       "      <td>0</td>\n",
       "      <td>2</td>\n",
       "      <td>Bid</td>\n",
       "      <td>25</td>\n",
       "      <td>4</td>\n",
       "    </tr>\n",
       "    <tr>\n",
       "      <th>3</th>\n",
       "      <td>0</td>\n",
       "      <td>3</td>\n",
       "      <td>Ask</td>\n",
       "      <td>17</td>\n",
       "      <td>6</td>\n",
       "    </tr>\n",
       "    <tr>\n",
       "      <th>4</th>\n",
       "      <td>0</td>\n",
       "      <td>4</td>\n",
       "      <td>Ask</td>\n",
       "      <td>26</td>\n",
       "      <td>7</td>\n",
       "    </tr>\n",
       "    <tr>\n",
       "      <th>5</th>\n",
       "      <td>0</td>\n",
       "      <td>5</td>\n",
       "      <td>Ask</td>\n",
       "      <td>20</td>\n",
       "      <td>9</td>\n",
       "    </tr>\n",
       "  </tbody>\n",
       "</table>\n",
       "</div>"
      ],
      "text/plain": [
       "  Hour Participant Type Price (cents/KWh) Quantity (KW)\n",
       "0    0           0  Bid                28             1\n",
       "1    0           1  Bid                31             1\n",
       "2    0           2  Bid                25             4\n",
       "3    0           3  Ask                17             6\n",
       "4    0           4  Ask                26             7\n",
       "5    0           5  Ask                20             9"
      ]
     },
     "execution_count": 59,
     "metadata": {},
     "output_type": "execute_result"
    }
   ],
   "source": [
    "df[df[\"Hour\"]==0]"
   ]
  },
  {
   "cell_type": "code",
   "execution_count": 60,
   "metadata": {},
   "outputs": [
    {
     "name": "stdout",
     "output_type": "stream",
     "text": [
      "Problem name: ET\n",
      "\n",
      "Minimize\n",
      "  0\n",
      "\n",
      "Subject to\n",
      "  No constraints\n",
      "\n",
      "  Binary variables (9)\n",
      "    x_0_3 x_0_4 x_0_5 x_1_3 x_1_4 x_1_5 x_2_3 x_2_4 x_2_5\n",
      "\n"
     ]
    }
   ],
   "source": [
    "hour = 0\n",
    "\n",
    "for i in range(int(len(df[df[\"Hour\"]==hour])/2)): #consumers\n",
    "    for j in range(int(len(df[df[\"Hour\"]==hour])/2),int(len(df[df[\"Hour\"]==hour]))): #prosumers\n",
    "        mod.binary_var(name=f\"x_{int(i)}_{int(j)}\")\n",
    "print(mod.prettyprint())"
   ]
  },
  {
   "cell_type": "markdown",
   "metadata": {},
   "source": [
    "Now we assign the cost function given above."
   ]
  },
  {
   "cell_type": "code",
   "execution_count": 61,
   "metadata": {},
   "outputs": [],
   "source": [
    "#creating the cost function\n",
    "#cost\n",
    "lind_dict={}\n",
    "\n",
    "for i in range(int(len(df[df[\"Hour\"]==hour])/2)): #consumers\n",
    "    for j in range(int(len(df[df[\"Hour\"]==hour])/2),int(len(df[df[\"Hour\"]==hour]))):\n",
    "        lind_dict[f\"x_{int(i)}_{int(j)}\"]=df.loc[df[\"Hour\"] == hour, \"Price (cents/KWh)\"].values[i]-df.loc[df[\"Hour\"] == hour, \"Price (cents/KWh)\"].values[j]\\\n",
    "            *min(df.loc[df[\"Hour\"] == 2, \"Quantity (KW)\"].values[i],df.loc[df[\"Hour\"] == 2, \"Quantity (KW)\"].values[j])\n"
   ]
  },
  {
   "cell_type": "code",
   "execution_count": 62,
   "metadata": {},
   "outputs": [
    {
     "data": {
      "text/plain": [
       "{'x_0_3': -6,\n",
       " 'x_0_4': 2,\n",
       " 'x_0_5': -32,\n",
       " 'x_1_3': 14,\n",
       " 'x_1_4': 5,\n",
       " 'x_1_5': 11,\n",
       " 'x_2_3': -9,\n",
       " 'x_2_4': -1,\n",
       " 'x_2_5': -55}"
      ]
     },
     "execution_count": 62,
     "metadata": {},
     "output_type": "execute_result"
    }
   ],
   "source": [
    "lind_dict"
   ]
  },
  {
   "cell_type": "code",
   "execution_count": 63,
   "metadata": {},
   "outputs": [
    {
     "name": "stdout",
     "output_type": "stream",
     "text": [
      "Problem name: ET\n",
      "\n",
      "Maximize\n",
      "  -6*x_0_3 + 2*x_0_4 - 32*x_0_5 + 14*x_1_3 + 5*x_1_4 + 11*x_1_5 - 9*x_2_3\n",
      "  - x_2_4 - 55*x_2_5\n",
      "\n",
      "Subject to\n",
      "  No constraints\n",
      "\n",
      "  Binary variables (9)\n",
      "    x_0_3 x_0_4 x_0_5 x_1_3 x_1_4 x_1_5 x_2_3 x_2_4 x_2_5\n",
      "\n"
     ]
    }
   ],
   "source": [
    "mod.maximize(linear=lind_dict)\n",
    "print(mod.prettyprint())"
   ]
  },
  {
   "cell_type": "markdown",
   "metadata": {},
   "source": [
    "We create the constraints given above."
   ]
  },
  {
   "cell_type": "code",
   "execution_count": 64,
   "metadata": {},
   "outputs": [],
   "source": [
    "#constraint consumers\n",
    "constraints_consumer={}\n",
    "for i in range(int(len(df[df[\"Hour\"]==hour])/2)):\n",
    "    constraints_consumer[f\"consumer_ID_{i}\"] = {}\n",
    "    for j in range(int(len(df[df[\"Hour\"]==hour])/2),int(len(df[df[\"Hour\"]==hour]))):\n",
    "        constraints_consumer[f\"consumer_ID_{i}\"][f\"x_{i}_{j}\"] = min(df.loc[df[\"Hour\"] == hour, \"Quantity (KW)\"].values[i],df.loc[df[\"Hour\"] == hour, \"Quantity (KW)\"].values[j])\n",
    "\n",
    "#constraint prosumers\n",
    "constraints_prosumer={}\n",
    "for j in range(int(len(df[df[\"Hour\"]==hour])/2),int(len(df[df[\"Hour\"]==hour]))):\n",
    "    constraints_prosumer[f\"prosumer_ID_{j}\"] = {}\n",
    "    for i in range(int(len(df[df[\"Hour\"]==hour])/2)):\n",
    "        constraints_prosumer[f\"prosumer_ID_{j}\"][f\"x_{i}_{j}\"] = min(df.loc[df[\"Hour\"] == hour, \"Quantity (KW)\"].values[i],df.loc[df[\"Hour\"] == hour, \"Quantity (KW)\"].values[j])\n"
   ]
  },
  {
   "cell_type": "code",
   "execution_count": 65,
   "metadata": {},
   "outputs": [
    {
     "data": {
      "text/plain": [
       "{'consumer_ID_0': {'x_0_3': 1, 'x_0_4': 1, 'x_0_5': 1},\n",
       " 'consumer_ID_1': {'x_1_3': 1, 'x_1_4': 1, 'x_1_5': 1},\n",
       " 'consumer_ID_2': {'x_2_3': 4, 'x_2_4': 4, 'x_2_5': 4}}"
      ]
     },
     "execution_count": 65,
     "metadata": {},
     "output_type": "execute_result"
    }
   ],
   "source": [
    "#this is a dictinary\n",
    "constraints_consumer"
   ]
  },
  {
   "cell_type": "code",
   "execution_count": 67,
   "metadata": {},
   "outputs": [
    {
     "ename": "QiskitOptimizationError",
     "evalue": "\"Linear constraint's name already exists: cons_constraint_0\"",
     "output_type": "error",
     "traceback": [
      "\u001b[1;31m---------------------------------------------------------------------------\u001b[0m",
      "\u001b[1;31mQiskitOptimizationError\u001b[0m                   Traceback (most recent call last)",
      "\u001b[1;32m~\\AppData\\Local\\Temp\\ipykernel_42360\\745266531.py\u001b[0m in \u001b[0;36m<module>\u001b[1;34m\u001b[0m\n\u001b[0;32m      1\u001b[0m \u001b[1;31m#adding consumer_constraints\u001b[0m\u001b[1;33m\u001b[0m\u001b[1;33m\u001b[0m\u001b[0m\n\u001b[0;32m      2\u001b[0m \u001b[1;32mfor\u001b[0m \u001b[0mi\u001b[0m \u001b[1;32min\u001b[0m \u001b[0mrange\u001b[0m\u001b[1;33m(\u001b[0m\u001b[0mint\u001b[0m\u001b[1;33m(\u001b[0m\u001b[0mlen\u001b[0m\u001b[1;33m(\u001b[0m\u001b[0mdf\u001b[0m\u001b[1;33m[\u001b[0m\u001b[0mdf\u001b[0m\u001b[1;33m[\u001b[0m\u001b[1;34m\"Hour\"\u001b[0m\u001b[1;33m]\u001b[0m\u001b[1;33m==\u001b[0m\u001b[0mhour\u001b[0m\u001b[1;33m]\u001b[0m\u001b[1;33m)\u001b[0m\u001b[1;33m/\u001b[0m\u001b[1;36m2\u001b[0m\u001b[1;33m)\u001b[0m\u001b[1;33m)\u001b[0m\u001b[1;33m:\u001b[0m\u001b[1;33m\u001b[0m\u001b[1;33m\u001b[0m\u001b[0m\n\u001b[1;32m----> 3\u001b[1;33m     \u001b[0mmod\u001b[0m\u001b[1;33m.\u001b[0m\u001b[0mlinear_constraint\u001b[0m\u001b[1;33m(\u001b[0m\u001b[0mlinear\u001b[0m\u001b[1;33m=\u001b[0m\u001b[0mconstraints_consumer\u001b[0m\u001b[1;33m[\u001b[0m\u001b[1;34mf\"consumer_ID_{i}\"\u001b[0m\u001b[1;33m]\u001b[0m\u001b[1;33m,\u001b[0m \u001b[0msense\u001b[0m\u001b[1;33m=\u001b[0m\u001b[1;34m\"<=\"\u001b[0m\u001b[1;33m,\u001b[0m \u001b[0mrhs\u001b[0m\u001b[1;33m=\u001b[0m\u001b[0mdf\u001b[0m\u001b[1;33m.\u001b[0m\u001b[0mloc\u001b[0m\u001b[1;33m[\u001b[0m\u001b[0mdf\u001b[0m\u001b[1;33m[\u001b[0m\u001b[1;34m\"Hour\"\u001b[0m\u001b[1;33m]\u001b[0m \u001b[1;33m==\u001b[0m \u001b[0mhour\u001b[0m\u001b[1;33m,\u001b[0m \u001b[1;34m\"Quantity (KW)\"\u001b[0m\u001b[1;33m]\u001b[0m\u001b[1;33m.\u001b[0m\u001b[0mvalues\u001b[0m\u001b[1;33m[\u001b[0m\u001b[0mi\u001b[0m\u001b[1;33m]\u001b[0m\u001b[1;33m,\u001b[0m \u001b[0mname\u001b[0m\u001b[1;33m=\u001b[0m\u001b[1;34mf\"cons_constraint_{i}\"\u001b[0m\u001b[1;33m)\u001b[0m\u001b[1;33m\u001b[0m\u001b[1;33m\u001b[0m\u001b[0m\n\u001b[0m\u001b[0;32m      4\u001b[0m \u001b[1;33m\u001b[0m\u001b[0m\n\u001b[0;32m      5\u001b[0m \u001b[1;31m#adding prosumer_constraints\u001b[0m\u001b[1;33m\u001b[0m\u001b[1;33m\u001b[0m\u001b[0m\n",
      "\u001b[1;32md:\\Anaconda3\\lib\\site-packages\\qiskit_optimization\\problems\\quadratic_program.py\u001b[0m in \u001b[0;36mlinear_constraint\u001b[1;34m(self, linear, sense, rhs, name)\u001b[0m\n\u001b[0;32m    660\u001b[0m         \u001b[1;32mif\u001b[0m \u001b[0mname\u001b[0m\u001b[1;33m:\u001b[0m\u001b[1;33m\u001b[0m\u001b[1;33m\u001b[0m\u001b[0m\n\u001b[0;32m    661\u001b[0m             \u001b[1;32mif\u001b[0m \u001b[0mname\u001b[0m \u001b[1;32min\u001b[0m \u001b[0mself\u001b[0m\u001b[1;33m.\u001b[0m\u001b[0mlinear_constraints_index\u001b[0m\u001b[1;33m:\u001b[0m\u001b[1;33m\u001b[0m\u001b[1;33m\u001b[0m\u001b[0m\n\u001b[1;32m--> 662\u001b[1;33m                 \u001b[1;32mraise\u001b[0m \u001b[0mQiskitOptimizationError\u001b[0m\u001b[1;33m(\u001b[0m\u001b[1;34mf\"Linear constraint's name already exists: {name}\"\u001b[0m\u001b[1;33m)\u001b[0m\u001b[1;33m\u001b[0m\u001b[1;33m\u001b[0m\u001b[0m\n\u001b[0m\u001b[0;32m    663\u001b[0m             \u001b[0mself\u001b[0m\u001b[1;33m.\u001b[0m\u001b[0m_check_name\u001b[0m\u001b[1;33m(\u001b[0m\u001b[0mname\u001b[0m\u001b[1;33m,\u001b[0m \u001b[1;34m\"Linear constraint\"\u001b[0m\u001b[1;33m)\u001b[0m\u001b[1;33m\u001b[0m\u001b[1;33m\u001b[0m\u001b[0m\n\u001b[0;32m    664\u001b[0m         \u001b[1;32melse\u001b[0m\u001b[1;33m:\u001b[0m\u001b[1;33m\u001b[0m\u001b[1;33m\u001b[0m\u001b[0m\n",
      "\u001b[1;31mQiskitOptimizationError\u001b[0m: \"Linear constraint's name already exists: cons_constraint_0\""
     ]
    }
   ],
   "source": [
    "#adding consumer_constraints\n",
    "for i in range(int(len(df[df[\"Hour\"]==hour])/2)):\n",
    "    mod.linear_constraint(linear=constraints_consumer[f\"consumer_ID_{i}\"], sense=\"<=\", rhs=df.loc[df[\"Hour\"] == hour, \"Quantity (KW)\"].values[i], name=f\"cons_constraint_{i}\")\n",
    "\n",
    "#adding prosumer_constraints\n",
    "for j in range(int(len(df[df[\"Hour\"]==hour])/2),int(len(df[df[\"Hour\"]==hour]))):\n",
    "    mod.linear_constraint(linear=constraints_prosumer[f\"prosumer_ID_{j}\"], sense=\"<=\", rhs=df.loc[df[\"Hour\"] == hour, \"Quantity (KW)\"].values[j], name=f\"pros_constraint_{j}\")"
   ]
  },
  {
   "cell_type": "code",
   "execution_count": 68,
   "metadata": {},
   "outputs": [
    {
     "name": "stdout",
     "output_type": "stream",
     "text": [
      "Problem name: ET\n",
      "\n",
      "Maximize\n",
      "  -6*x_0_3 + 2*x_0_4 - 32*x_0_5 + 14*x_1_3 + 5*x_1_4 + 11*x_1_5 - 9*x_2_3\n",
      "  - x_2_4 - 55*x_2_5\n",
      "\n",
      "Subject to\n",
      "  Linear constraints (3)\n",
      "    x_0_3 + x_0_4 + x_0_5 <= 3  'cons_constraint_0'\n",
      "    x_1_3 + x_1_4 + x_1_5 <= 1  'cons_constraint_1'\n",
      "    4*x_2_3 + 4*x_2_4 + 4*x_2_5 <= 5  'cons_constraint_2'\n",
      "\n",
      "  Binary variables (9)\n",
      "    x_0_3 x_0_4 x_0_5 x_1_3 x_1_4 x_1_5 x_2_3 x_2_4 x_2_5\n",
      "\n"
     ]
    }
   ],
   "source": [
    "print(mod.prettyprint())"
   ]
  },
  {
   "cell_type": "markdown",
   "metadata": {},
   "source": [
    "Let's convert the program to QUBO"
   ]
  },
  {
   "cell_type": "code",
   "execution_count": 69,
   "metadata": {},
   "outputs": [],
   "source": [
    "from qiskit_optimization.converters import QuadraticProgramToQubo\n",
    "\n",
    "conv = QuadraticProgramToQubo()\n",
    "mod_qubo = conv.convert(mod)"
   ]
  },
  {
   "cell_type": "code",
   "execution_count": 70,
   "metadata": {},
   "outputs": [
    {
     "name": "stdout",
     "output_type": "stream",
     "text": [
      "Problem name: ET\n",
      "\n",
      "Minimize\n",
      "  544*cons_constraint_0@int_slack@0^2\n",
      "  + 2176*cons_constraint_0@int_slack@0*cons_constraint_0@int_slack@1\n",
      "  + 2176*cons_constraint_0@int_slack@1^2 + 544*cons_constraint_2@int_slack@0^2\n",
      "  + 2176*cons_constraint_2@int_slack@0*cons_constraint_2@int_slack@1\n",
      "  + 2176*cons_constraint_2@int_slack@0*cons_constraint_2@int_slack@2\n",
      "  + 2176*cons_constraint_2@int_slack@1^2\n",
      "  + 4352*cons_constraint_2@int_slack@1*cons_constraint_2@int_slack@2\n",
      "  + 2176*cons_constraint_2@int_slack@2^2\n",
      "  + 1088*x_0_3*cons_constraint_0@int_slack@0\n",
      "  + 2176*x_0_3*cons_constraint_0@int_slack@1 + 544*x_0_3^2 + 1088*x_0_3*x_0_4\n",
      "  + 1088*x_0_3*x_0_5 + 1088*x_0_4*cons_constraint_0@int_slack@0\n",
      "  + 2176*x_0_4*cons_constraint_0@int_slack@1 + 544*x_0_4^2 + 1088*x_0_4*x_0_5\n",
      "  + 1088*x_0_5*cons_constraint_0@int_slack@0\n",
      "  + 2176*x_0_5*cons_constraint_0@int_slack@1 + 544*x_0_5^2 + 136*x_1_3*x_1_4\n",
      "  + 136*x_1_3*x_1_5 + 136*x_1_4*x_1_5 + 4352*x_2_3*cons_constraint_2@int_slack@0\n",
      "  + 8704*x_2_3*cons_constraint_2@int_slack@1\n",
      "  + 8704*x_2_3*cons_constraint_2@int_slack@2 + 8704*x_2_3^2 + 17408*x_2_3*x_2_4\n",
      "  + 17408*x_2_3*x_2_5 + 4352*x_2_4*cons_constraint_2@int_slack@0\n",
      "  + 8704*x_2_4*cons_constraint_2@int_slack@1\n",
      "  + 8704*x_2_4*cons_constraint_2@int_slack@2 + 8704*x_2_4^2 + 17408*x_2_4*x_2_5\n",
      "  + 4352*x_2_5*cons_constraint_2@int_slack@0\n",
      "  + 8704*x_2_5*cons_constraint_2@int_slack@1\n",
      "  + 8704*x_2_5*cons_constraint_2@int_slack@2 + 8704*x_2_5^2\n",
      "  - 3264*cons_constraint_0@int_slack@0 - 6528*cons_constraint_0@int_slack@1\n",
      "  - 5440*cons_constraint_2@int_slack@0 - 10880*cons_constraint_2@int_slack@1\n",
      "  - 10880*cons_constraint_2@int_slack@2 - 3258*x_0_3 - 3266*x_0_4 - 3232*x_0_5\n",
      "  - 14*x_1_3 - 5*x_1_4 - 11*x_1_5 - 21751*x_2_3 - 21759*x_2_4 - 21705*x_2_5\n",
      "  + 18496\n",
      "\n",
      "Subject to\n",
      "  No constraints\n",
      "\n",
      "  Binary variables (14)\n",
      "    x_0_3 x_0_4 x_0_5 x_1_3 x_1_4 x_1_5 x_2_3 x_2_4 x_2_5\n",
      "    cons_constraint_0@int_slack@0 cons_constraint_0@int_slack@1\n",
      "    cons_constraint_2@int_slack@0 cons_constraint_2@int_slack@1\n",
      "    cons_constraint_2@int_slack@2\n",
      "\n"
     ]
    }
   ],
   "source": [
    "print(mod_qubo.prettyprint())"
   ]
  },
  {
   "cell_type": "markdown",
   "metadata": {},
   "source": [
    "The QUBO matrix has the following form."
   ]
  },
  {
   "cell_type": "code",
   "execution_count": 71,
   "metadata": {},
   "outputs": [
    {
     "name": "stdout",
     "output_type": "stream",
     "text": [
      "Dimension: (14, 14)\n"
     ]
    }
   ],
   "source": [
    "A_tilde = mod_qubo.objective.quadratic.to_array()\n",
    "print(f\"Dimension: {A_tilde.shape}\")"
   ]
  },
  {
   "cell_type": "code",
   "execution_count": 72,
   "metadata": {},
   "outputs": [
    {
     "data": {
      "text/plain": [
       "<matplotlib.lines.Line2D at 0x208824767c0>"
      ]
     },
     "execution_count": 72,
     "metadata": {},
     "output_type": "execute_result"
    },
    {
     "data": {
      "image/png": "[encoded data removed]",
      "text/plain": [
       "<Figure size 640x480 with 1 Axes>"
      ]
     },
     "metadata": {},
     "output_type": "display_data"
    }
   ],
   "source": [
    "import matplotlib.pyplot as plt\n",
    "fig = plt.figure()\n",
    "ax = fig.add_subplot(1, 1, 1)\n",
    "ax.spy(A_tilde, markersize=3)"
   ]
  },
  {
   "cell_type": "code",
   "execution_count": 73,
   "metadata": {},
   "outputs": [],
   "source": [
    "from qiskit_optimization.algorithms import CplexOptimizer"
   ]
  },
  {
   "cell_type": "code",
   "execution_count": 74,
   "metadata": {},
   "outputs": [],
   "source": [
    "cplex_optimizer = CplexOptimizer()\n",
    "qubo_minimization_result = cplex_optimizer.solve(mod_qubo)"
   ]
  },
  {
   "cell_type": "code",
   "execution_count": 75,
   "metadata": {},
   "outputs": [
    {
     "name": "stdout",
     "output_type": "stream",
     "text": [
      "minimum point (binary): b_min =  [0. 1. 0. 1. 0. 0. 0. 0. 0. 0. 1. 1. 1. 1.]\n",
      "minimum value: f_3(b_min) =  -16.0\n"
     ]
    }
   ],
   "source": [
    "print(\"minimum point (binary): b_min = \", qubo_minimization_result.x)\n",
    "print(\"minimum value: f_3(b_min) = \", qubo_minimization_result.fval)"
   ]
  },
  {
   "cell_type": "code",
   "execution_count": 76,
   "metadata": {},
   "outputs": [
    {
     "name": "stdout",
     "output_type": "stream",
     "text": [
      "minimum point (integer): p_min =  [0. 1. 0. 1. 0. 0. 0. 0. 0.]\n"
     ]
    }
   ],
   "source": [
    "b_min = qubo_minimization_result.x\n",
    "p_min = conv.interpret(b_min)\n",
    "print(\"minimum point (integer): p_min = \", p_min)"
   ]
  },
  {
   "cell_type": "code",
   "execution_count": null,
   "metadata": {},
   "outputs": [],
   "source": []
  }
 ],
 "metadata": {
  "kernelspec": {
   "display_name": "base",
   "language": "python",
   "name": "python3"
  },
  "language_info": {
   "codemirror_mode": {
    "name": "ipython",
    "version": 3
   },
   "file_extension": ".py",
   "mimetype": "text/x-python",
   "name": "python",
   "nbconvert_exporter": "python",
   "pygments_lexer": "ipython3",
   "version": "3.9.13"
  }
 },
 "nbformat": 4,
 "nbformat_minor": 2
}
